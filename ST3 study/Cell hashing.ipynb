{
 "cells": [
  {
   "cell_type": "code",
   "execution_count": 15,
   "metadata": {},
   "outputs": [],
   "source": [
    "library(Seurat)\n",
    "seurat = readRDS('../initialSeurat_rhesus.RDS')"
   ]
  },
  {
   "cell_type": "code",
   "execution_count": 16,
   "metadata": {},
   "outputs": [],
   "source": [
    "resultsA = read.table('211210LovA.csv', header = 1, stringsAsFactors = FALSE, sep = ',', row.names = 1)\n",
    "resultsB = read.table('220110Lov.csv', header = 1, stringsAsFactors = FALSE, sep = ',', row.names = 1)\n",
    "results = rbind(resultsA, resultsB)"
   ]
  },
  {
   "cell_type": "code",
   "execution_count": 17,
   "metadata": {},
   "outputs": [],
   "source": [
    "seurat = subset(seurat, cells = colnames(seurat)[seurat$id %in% rownames(results)])"
   ]
  },
  {
   "cell_type": "code",
   "execution_count": 18,
   "metadata": {},
   "outputs": [
    {
     "data": {
      "text/plain": [
       "An object of class Seurat \n",
       "12565 features across 13366 samples within 1 assay \n",
       "Active assay: RNA (12565 features, 2000 variable features)\n",
       " 2 dimensional reductions calculated: pca, umap"
      ]
     },
     "metadata": {},
     "output_type": "display_data"
    }
   ],
   "source": [
    "seurat"
   ]
  },
  {
   "cell_type": "code",
   "execution_count": 19,
   "metadata": {},
   "outputs": [],
   "source": [
    "hash_mat = results[seurat$id,]\n",
    "bcs_to_names = colnames(seurat)\n",
    "names(bcs_to_names) = seurat$id\n",
    "rownames(hash_mat) = bcs_to_names[rownames(hash_mat)]"
   ]
  },
  {
   "cell_type": "code",
   "execution_count": 20,
   "metadata": {},
   "outputs": [],
   "source": [
    "seurat[['HTO']] = CreateAssayObject(counts = t(hash_mat))\n",
    "#seurat = subset(seurat, cells =colnames(seurat)[seurat$n_genes > 1000])"
   ]
  },
  {
   "cell_type": "code",
   "execution_count": 21,
   "metadata": {},
   "outputs": [],
   "source": [
    "seurat = subset(seurat, cells = colnames(seurat)[seurat@meta.data$nCount_HTO > 5 ])"
   ]
  },
  {
   "cell_type": "code",
   "execution_count": 22,
   "metadata": {},
   "outputs": [
    {
     "name": "stderr",
     "output_type": "stream",
     "text": [
      "AB1\n",
      "\n",
      "Normalizing across cells\n",
      "\n"
     ]
    },
    {
     "name": "stdout",
     "output_type": "stream",
     "text": [
      "[1] 2.183764\n",
      "[1] 0.8549858\n",
      "[1] 0.6\n",
      "[1] 1.266306\n",
      "AB1_142 \n",
      "      4 \n"
     ]
    },
    {
     "name": "stderr",
     "output_type": "stream",
     "text": [
      "AB2\n",
      "\n",
      "Normalizing across cells\n",
      "\n"
     ]
    },
    {
     "name": "stdout",
     "output_type": "stream",
     "text": [
      "[1] 3.14469\n",
      "[1] 0.2747699\n",
      "[1] 0.3\n",
      "[1] 1.660865\n",
      "AB2_794 \n",
      "      3 \n"
     ]
    },
    {
     "name": "stderr",
     "output_type": "stream",
     "text": [
      "AB3\n",
      "\n",
      "Normalizing across cells\n",
      "\n"
     ]
    },
    {
     "name": "stdout",
     "output_type": "stream",
     "text": [
      "[1] 1\n",
      "[1] 1.5\n",
      "[1] 1\n",
      "[1] 1.5\n",
      "AB3_321 \n",
      "      3 \n"
     ]
    },
    {
     "name": "stderr",
     "output_type": "stream",
     "text": [
      "AB4\n",
      "\n",
      "Normalizing across cells\n",
      "\n"
     ]
    },
    {
     "name": "stdout",
     "output_type": "stream",
     "text": [
      "[1] 2\n",
      "[1] 2\n",
      "[1] 2\n",
      "[1] 2\n",
      "AB4_1160 \n",
      "       1 \n"
     ]
    },
    {
     "name": "stderr",
     "output_type": "stream",
     "text": [
      "AC1\n",
      "\n",
      "Normalizing across cells\n",
      "\n"
     ]
    },
    {
     "name": "stdout",
     "output_type": "stream",
     "text": [
      "[1] 1.985791\n",
      "[1] 1.164669\n",
      "[1] 0.9706483\n",
      "AC1_242 \n",
      "      1 \n"
     ]
    },
    {
     "name": "stderr",
     "output_type": "stream",
     "text": [
      "AC2\n",
      "\n",
      "Normalizing across cells\n",
      "\n"
     ]
    },
    {
     "name": "stdout",
     "output_type": "stream",
     "text": [
      "[1] 1.670438\n",
      "[1] 1\n",
      "[1] 1.850626\n",
      "AC2_280 \n",
      "      1 \n"
     ]
    },
    {
     "name": "stderr",
     "output_type": "stream",
     "text": [
      "AC3\n",
      "\n",
      "Normalizing across cells\n",
      "\n"
     ]
    },
    {
     "name": "stdout",
     "output_type": "stream",
     "text": [
      "[1] 2.284016\n",
      "[1] 1.942184\n",
      "[1] 1.549514\n",
      "[1] 2.075925\n",
      "[1] 2\n",
      "[1] 2.075925\n",
      "AC3_7 \n",
      "    4 \n"
     ]
    },
    {
     "name": "stderr",
     "output_type": "stream",
     "text": [
      "AC4\n",
      "\n",
      "Normalizing across cells\n",
      "\n"
     ]
    },
    {
     "name": "stdout",
     "output_type": "stream",
     "text": [
      "[1] 2.537923\n",
      "[1] 2.266018\n",
      "[1] 1.882588\n",
      "[1] 1.866041\n",
      "[1] 1\n",
      "[1] 2.21777\n",
      "AC4_2567 \n",
      "       2 \n"
     ]
    },
    {
     "name": "stderr",
     "output_type": "stream",
     "text": [
      "AC5\n",
      "\n",
      "Normalizing across cells\n",
      "\n"
     ]
    },
    {
     "name": "stdout",
     "output_type": "stream",
     "text": [
      "[1] 2.643779\n",
      "[1] 2.421515\n",
      "[1] 1.96454\n",
      "[1] 2.294031\n",
      "[1] 1\n",
      "[1] 2.269497\n",
      "AC5_2421 \n",
      "       4 \n"
     ]
    }
   ],
   "source": [
    "options(repr.plot.res = 300)\n",
    "library(MASS)\n",
    "library(cluster)\n",
    "library(outliers)\n",
    "library(dplyr)\n",
    "seurat$hash = NA\n",
    "Idents(seurat) = 'orig'\n",
    "bcs_to_fix = c()\n",
    "for (curr in unique(seurat$orig)) {\n",
    "    message(curr)\n",
    "   sub =subset(seurat, idents =  curr)\n",
    "   #sub =subset(sub, nCount_HTO > 50)\n",
    "\n",
    "    if (length(colnames(sub)) > 20) {\n",
    "        \n",
    "        if (substring(curr, 1,2 ) %in% c('AB'))  {\n",
    "        sub[['HTO']] = CreateAssayObject(counts = t(hash_mat[colnames(sub),c(2,3,4,5)]))\n",
    "            }\n",
    "        if (curr =='AC1')  {\n",
    "        sub[['HTO']] = CreateAssayObject(counts = t(hash_mat[colnames(sub),c(1,6,7)]))\n",
    "        }\n",
    "        if (curr =='AC2')  {\n",
    "        sub[['HTO']] = CreateAssayObject(counts = t(hash_mat[colnames(sub),c(8,9,10)]))\n",
    "        }\n",
    "        \n",
    "        if (curr =='AC3')  {\n",
    "            sub[['HTO']] = CreateAssayObject(counts = t(hash_mat[colnames(sub),c(1,6,7,8,9,10)]))\n",
    "        }\n",
    "        \n",
    "        if (curr =='AC4')  {\n",
    "            sub[['HTO']] = CreateAssayObject(counts = t(hash_mat[colnames(sub),c(1,6,7,8,9,10)]))\n",
    "        }\n",
    "        if (curr =='AC5')  {\n",
    "            sub[['HTO']] = CreateAssayObject(counts = t(hash_mat[colnames(sub),c(1,6,7,8,9,10)]))\n",
    "        }\n",
    "        sub = NormalizeData(sub, assay = 'HTO', normalization.method = 'CLR', margin = 2)\n",
    "        \n",
    "        \n",
    "\n",
    "        DefaultAssay(sub) = 'HTO'\n",
    "        data = GetAssayData(sub)\n",
    "\n",
    "        # k medioids\n",
    "        meds = pam(t(data), k = dim(data)[1])\n",
    "        calls = t(data)\n",
    "        cluster_data = meds$medoids %>% as.matrix()\n",
    "        \n",
    "\n",
    "        for (i in 1:dim(cluster_data)[2]) {\n",
    "            \n",
    "  \n",
    "\n",
    "            curr_med = which.max(cluster_data[,i])\n",
    "            negs = meds$clustering[meds$clustering != curr_med]\n",
    "            neg_vals = data[i, names(negs)]\n",
    "            pos_vals = data[i, meds$clustering == curr_med]\n",
    "            pos_vals = pos_vals[order(pos_vals)] \n",
    "            done = FALSE\n",
    "            thresh = min(pos_vals)\n",
    "            # remove outliers and set threshold\n",
    "            while(!done & length(pos_vals) > 5) {\n",
    "                done = TRUE\n",
    "                avg = mean(pos_vals)\n",
    "                diff1 = avg - min(pos_vals)\n",
    "                diff2 = max(pos_vals) - avg\n",
    "                test = grubbs.test(pos_vals, opposite = diff1 < diff2)\n",
    "                if (test$p.value < 0.05) {\n",
    "                    pos_vals = pos_vals[-1]\n",
    "                    done = FALSE\n",
    "                }\n",
    "                thresh = min(pos_vals)\n",
    "\n",
    "            }\n",
    "             if (curr == 'AB1' & i == 3) {\n",
    "                thresh = .6\n",
    "            }\n",
    "            \n",
    "             if (curr == 'AB2' & i == 3) {\n",
    "                thresh = .3\n",
    "            }\n",
    "            \n",
    "            if (curr == 'AB3') {\n",
    "                thresh = 1\n",
    "            }\n",
    "            if (curr == 'AB3' & i == 2) {\n",
    "                thresh = 1.5\n",
    "            }\n",
    "             if (curr == 'AB3' & i == 4) {\n",
    "                thresh = 1.5\n",
    "            }\n",
    "            \n",
    "            if (curr == 'AB4') {\n",
    "                thresh = 2\n",
    "            }\n",
    "            \n",
    "            if (curr == 'AC3' & i == 5) {\n",
    "                thresh = 2\n",
    "            }\n",
    "            if (curr == 'AC2' & i == 2) {\n",
    "                thresh = 1\n",
    "            }\n",
    "            if (curr == 'AC4' & i == 5) {\n",
    "                thresh = 1\n",
    "            }\n",
    "             if (curr == 'AC4' & i == 5) {\n",
    "                thresh = 1\n",
    "            } \n",
    "            if (curr == 'AC5' & i == 5) {\n",
    "                thresh = 1\n",
    "            }\n",
    "            print(thresh)\n",
    "            \n",
    "            \n",
    "            \n",
    "            calls[,i] = as.numeric(calls[,i] >= thresh)\n",
    "            \n",
    " \n",
    "\n",
    "\n",
    "        }\n",
    "            assign = apply(calls, 1, which.max)\n",
    "            assign = rownames(sub)[assign]\n",
    "            rsums = rowSums(calls)\n",
    "            print(curr_med)\n",
    "            assign[rsums > 1] = 'Doublet'\n",
    "            assign[rsums == 0] = 'Negative'\n",
    "            \n",
    "            if (substring(curr, 1, 2) == 'AB') {\n",
    "                needToFix = rownames(calls)[(rowSums(calls)) == 2 & (calls[,2] == 1) & (calls[,4 ] == 1)]\n",
    "                bcs_to_fix = c(bcs_to_fix,needToFix)\n",
    "                assign[which(rownames(calls) %in% needToFix)] = 'NeedToFix'\n",
    "\n",
    "            }\n",
    "        \n",
    "            pheatmap::pheatmap(t(data), annotation_row = data.frame(row.names = colnames(data), id = factor(assign)),show_rownames = FALSE, filename = paste0(curr, '.png'))\n",
    "            seurat@meta.data[colnames(sub), 'hash'] = assign\n",
    "\n",
    "\n",
    "    }\n",
    "}"
   ]
  },
  {
   "cell_type": "code",
   "execution_count": 24,
   "metadata": {},
   "outputs": [],
   "source": [
    "fillin = apply(hash_mat[bcs_to_fix,], 1, which.max)\n",
    "seurat@meta.data[bcs_to_fix, 'hash'] = colnames(hash_mat)[fillin]"
   ]
  },
  {
   "cell_type": "code",
   "execution_count": 25,
   "metadata": {},
   "outputs": [
    {
     "data": {
      "text/plain": [
       "     \n",
       "      Doublet HTO1.GTCAACTCTTTAGCG HTO10.ATTGACCCGCGTTAG HTO2.TGATGGCCTATTGGG\n",
       "  AB1       8                    0                     0                   29\n",
       "  AB2      19                    0                     0                   21\n",
       "  AB3      24                    0                     0                  230\n",
       "  AB4       2                    0                     0                   97\n",
       "  AC1       0                   28                     0                    0\n",
       "  AC2       1                    0                    48                    0\n",
       "  AC3      74                  203                   430                    0\n",
       "  AC4     106                  266                   507                    0\n",
       "  AC5     142                  272                   619                    0\n",
       "     \n",
       "      HTO3.TTCCGCCTCTCTTTG HTO4.AGTAAGTTCAGCGTA HTO5.AAGTATCGTTTCGCA\n",
       "  AB1                   25                  425                   67\n",
       "  AB2                   17                  343                   70\n",
       "  AB3                  263                  236                  160\n",
       "  AB4                  230                  195                  190\n",
       "  AC1                    0                    0                    0\n",
       "  AC2                    0                    0                    0\n",
       "  AC3                    0                    0                    0\n",
       "  AC4                    0                    0                    0\n",
       "  AC5                    0                    0                    0\n",
       "     \n",
       "      HTO6.GGTTGCCAGATGTCA HTO7.TGTCTTTCCTGCCAG HTO8.CTCCTCTGCAATTAC\n",
       "  AB1                    0                    0                    0\n",
       "  AB2                    0                    0                    0\n",
       "  AB3                    0                    0                    0\n",
       "  AB4                    0                    0                    0\n",
       "  AC1                  159                  115                    0\n",
       "  AC2                    0                    0                   29\n",
       "  AC3                  297                  319                  411\n",
       "  AC4                  354                  390                  437\n",
       "  AC5                  414                  440                  505\n",
       "     \n",
       "      HTO9.CAGTAGTCACGGTCA Negative\n",
       "  AB1                    0        0\n",
       "  AB2                    0        0\n",
       "  AB3                    0      620\n",
       "  AB4                    0      695\n",
       "  AC1                    0        1\n",
       "  AC2                   10        2\n",
       "  AC3                   26     1405\n",
       "  AC4                  358       45\n",
       "  AC5                  437       43"
      ]
     },
     "metadata": {},
     "output_type": "display_data"
    }
   ],
   "source": [
    "table(seurat@meta.data$orig, seurat@meta.data$hash)"
   ]
  },
  {
   "cell_type": "code",
   "execution_count": 56,
   "metadata": {},
   "outputs": [],
   "source": [
    "saveRDS(seurat@meta.data, 'hashed_seurat_meta.RDS')\n",
    "#saveRDS(seurat, 'hashed_seurat.RDS')\n"
   ]
  }
 ],
 "metadata": {
  "kernelspec": {
   "display_name": "Rv4",
   "language": "R",
   "name": "ir4"
  },
  "language_info": {
   "codemirror_mode": "r",
   "file_extension": ".r",
   "mimetype": "text/x-r-source",
   "name": "R",
   "pygments_lexer": "r",
   "version": "4.1.0"
  }
 },
 "nbformat": 4,
 "nbformat_minor": 2
}
