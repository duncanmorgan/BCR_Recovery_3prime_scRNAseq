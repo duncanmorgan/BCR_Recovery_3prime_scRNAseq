{
 "cells": [
  {
   "cell_type": "code",
   "execution_count": null,
   "metadata": {},
   "outputs": [],
   "source": [
    "library(dplyr)\n",
    "library(stringr)\n",
    "\n",
    "data1 = read.table('BCR/Pn3Pilot_HC.tab', header = TRUE, sep = '\\t', stringsAsFactors = FALSE)\n",
    "data2 = read.table('BCR/Pn3Pilot_LC.tab', header = TRUE, sep = '\\t', stringsAsFactors = FALSE)\n",
    "\n",
    "\n",
    "data = rbind(data1, data2)\n",
    "\n",
    "data$BC = substring(data$SEQUENCE_ID, 1, 12)\n",
    "data$UMI = substring(data$SEQUENCE_ID, 13, 20)\n",
    "data$LANE_ID = paste0(data$Sample, data$BC)\n",
    "head(data)"
   ]
  },
  {
   "cell_type": "code",
   "execution_count": 244,
   "metadata": {},
   "outputs": [],
   "source": [
    "# trim masked primer sequences\n",
    "library(stringr)\n",
    "data$SEQUENCE_TRIM = data$SEQUENCE_INPUT\n",
    "for (i in 1:dim(data)[1]) {\n",
    "    vstart = data$V_SEQ_START[i]\n",
    "    len = str_length(data$SEQUENCE_TRIM[i])\n",
    "    data$SEQUENCE_TRIM[i] = substring(data$SEQUENCE_TRIM[i], vstart, len) \n",
    "    \n",
    "    jlen = data$J_SEQ_LENGTH[i]\n",
    "    jstart = data$J_SEQ_START[i]\n",
    "    len = str_length(data$SEQUENCE_INPUT[i])\n",
    "    data$SEQUENCE_TRIM[i] = substring(data$SEQUENCE_TRIM[i], 1,jstart - vstart + jlen)\n",
    "}\n"
   ]
  },
  {
   "cell_type": "code",
   "execution_count": 245,
   "metadata": {},
   "outputs": [
    {
     "data": {
      "text/plain": [
       "   Min. 1st Qu.  Median    Mean 3rd Qu.    Max.    NA's \n",
       "   0.00    0.00   25.00   32.46   61.00  139.00    7268 "
      ]
     },
     "metadata": {},
     "output_type": "display_data"
    }
   ],
   "source": [
    "\n",
    "data$N_count = str_count(data$SEQUENCE_TRIM, 'N')\n",
    "data$N_frac = data$N_count / length(data$SEQUENCE_TRIM)\n",
    "summary(data$N_count)\n",
    "saveRDS(data, 'BCR/curr_data.RDS')"
   ]
  },
  {
   "cell_type": "code",
   "execution_count": 1,
   "metadata": {},
   "outputs": [],
   "source": [
    "data = readRDS('BCR/curr_data.RDS')"
   ]
  },
  {
   "cell_type": "code",
   "execution_count": 2,
   "metadata": {},
   "outputs": [],
   "source": [
    "seurat = readRDS('seurat.RDS')"
   ]
  },
  {
   "cell_type": "code",
   "execution_count": 3,
   "metadata": {},
   "outputs": [
    {
     "name": "stderr",
     "output_type": "stream",
     "text": [
      "Warning message:\n",
      "\"package 'dplyr' was built under R version 4.1.3\"\n",
      "\n",
      "Attaching package: 'dplyr'\n",
      "\n",
      "\n",
      "The following objects are masked from 'package:stats':\n",
      "\n",
      "    filter, lag\n",
      "\n",
      "\n",
      "The following objects are masked from 'package:base':\n",
      "\n",
      "    intersect, setdiff, setequal, union\n",
      "\n",
      "\n",
      "Warning message:\n",
      "\"package 'ggplot2' was built under R version 4.1.3\"\n"
     ]
    }
   ],
   "source": [
    "library(dplyr)\n",
    "library(ggplot2)\n"
   ]
  },
  {
   "cell_type": "code",
   "execution_count": 4,
   "metadata": {},
   "outputs": [
    {
     "data": {
      "text/html": [
       "<style>\n",
       ".list-inline {list-style: none; margin:0; padding: 0}\n",
       ".list-inline>li {display: inline-block}\n",
       ".list-inline>li:not(:last-child)::after {content: \"\\00b7\"; padding: 0 .5ex}\n",
       "</style>\n",
       "<ol class=list-inline><li>38095</li><li>71</li></ol>\n"
      ],
      "text/latex": [
       "\\begin{enumerate*}\n",
       "\\item 38095\n",
       "\\item 71\n",
       "\\end{enumerate*}\n"
      ],
      "text/markdown": [
       "1. 38095\n",
       "2. 71\n",
       "\n",
       "\n"
      ],
      "text/plain": [
       "[1] 38095    71"
      ]
     },
     "metadata": {},
     "output_type": "display_data"
    }
   ],
   "source": [
    "library(ggplot2)\n",
    "matches = data %>% filter(LANE_ID %in% seurat@meta.data$id)#, R1CONSCOUNT > 5)\n",
    "unmatched =  data %>% filter(Sample != 'Undetermined', !LANE_ID %in% seurat@meta.data$id)#, R1CONSCOUNT > 5, N_count < 3, CDR3_IMGT != '', CDR1_IMGT != '')\n",
    "dim(unmatched)"
   ]
  },
  {
   "cell_type": "code",
   "execution_count": 5,
   "metadata": {},
   "outputs": [
    {
     "name": "stderr",
     "output_type": "stream",
     "text": [
      "Warning message:\n",
      "\"package 'stringdist' was built under R version 4.1.1\"\n",
      "AB3\n",
      "\n"
     ]
    },
    {
     "name": "stdout",
     "output_type": "stream",
     "text": [
      "[1] 111  73\n",
      "[1] 44457    71\n"
     ]
    },
    {
     "name": "stderr",
     "output_type": "stream",
     "text": [
      "AC3\n",
      "\n"
     ]
    },
    {
     "name": "stdout",
     "output_type": "stream",
     "text": [
      "[1] 865  73\n",
      "[1] 45322    71\n"
     ]
    },
    {
     "name": "stderr",
     "output_type": "stream",
     "text": [
      "AB1\n",
      "\n"
     ]
    },
    {
     "name": "stdout",
     "output_type": "stream",
     "text": [
      "[1] 266  73\n",
      "[1] 45588    71\n"
     ]
    },
    {
     "name": "stderr",
     "output_type": "stream",
     "text": [
      "AB4\n",
      "\n"
     ]
    },
    {
     "name": "stdout",
     "output_type": "stream",
     "text": [
      "[1] 151  73\n",
      "[1] 45739    71\n"
     ]
    },
    {
     "name": "stderr",
     "output_type": "stream",
     "text": [
      "AC4\n",
      "\n"
     ]
    },
    {
     "name": "stdout",
     "output_type": "stream",
     "text": [
      "[1] 805  73\n",
      "[1] 46544    71\n"
     ]
    },
    {
     "name": "stderr",
     "output_type": "stream",
     "text": [
      "AB2\n",
      "\n"
     ]
    },
    {
     "name": "stdout",
     "output_type": "stream",
     "text": [
      "[1] 318  73\n",
      "[1] 46862    71\n"
     ]
    },
    {
     "name": "stderr",
     "output_type": "stream",
     "text": [
      "AC1\n",
      "\n"
     ]
    },
    {
     "name": "stdout",
     "output_type": "stream",
     "text": [
      "[1] 52 73\n",
      "[1] 46914    71\n"
     ]
    },
    {
     "name": "stderr",
     "output_type": "stream",
     "text": [
      "AC2\n",
      "\n"
     ]
    },
    {
     "name": "stdout",
     "output_type": "stream",
     "text": [
      "[1] 49 73\n",
      "[1] 46963    71\n"
     ]
    },
    {
     "name": "stderr",
     "output_type": "stream",
     "text": [
      "AC5\n",
      "\n"
     ]
    },
    {
     "name": "stdout",
     "output_type": "stream",
     "text": [
      "[1] 1348   73\n",
      "[1] 48311    71\n"
     ]
    }
   ],
   "source": [
    "\n",
    "library(stringdist)\n",
    "\n",
    "for (curr_sample in unique(unmatched$Sample)) {\n",
    "    message(curr_sample)\n",
    "    sample_bc = seurat$bc[seurat$orig == curr_sample]\n",
    "    curr_unmatched = unmatched %>% filter(Sample == curr_sample)\n",
    "    ham_mat = stringdistmatrix(curr_unmatched$BC, sample_bc)\n",
    "    curr_unmatched$mindist = apply(ham_mat, 1, min)\n",
    "    curr_unmatched$nearestBC = seurat$bc[apply(ham_mat, 1, which.min)]\n",
    "\n",
    "    curr_unmatched = curr_unmatched %>% filter(mindist == 1) %>% mutate(LANE_ID = paste0(Sample, BC))\n",
    "    print(dim(curr_unmatched))\n",
    "    matches = rbind(curr_unmatched[,colnames(matches)], matches)\n",
    "    print(dim(matches))\n",
    "\n",
    "    }"
   ]
  },
  {
   "cell_type": "code",
   "execution_count": 6,
   "metadata": {},
   "outputs": [
    {
     "data": {
      "image/png": "[encoded data removed]",
      "text/plain": [
       "plot without title"
      ]
     },
     "metadata": {
      "image/png": {
       "height": 600,
       "width": 600
      }
     },
     "output_type": "display_data"
    }
   ],
   "source": [
    "library(ggplot2)\n",
    "library(stringr)\n",
    "seurat@meta.data$id = paste0(seurat@meta.data$orig, seurat@meta.data$bc)\n",
    "hc = matches %>% filter(LOCUS == 'IGH') %>% filter(N_count < 5, FUNCTIONAL, R2CONSCOUNT > 5, CDR3_IMGT != '')\n",
    "lc = matches %>% filter(LOCUS != 'IGH') %>% filter(N_count < 5\n",
    "                                                   , FUNCTIONAL, R2CONSCOUNT > 5, CDR3_IMGT != '')\n",
    "\n",
    "lc$fwr1char = str_count(lc$FWR1_IMGT, fixed('.'))\n",
    "lc = lc %>% filter(fwr1char != str_length(FWR1_IMGT))\n",
    "\n",
    "seurat@meta.data$IGH_recovery = as.numeric(seurat@meta.data$id %in% hc$LANE_ID)\n",
    "seurat@meta.data$IGL_recovery = as.numeric(seurat@meta.data$id %in% lc$LANE_ID) \n",
    "\n",
    "seurat@meta.data$letter = substring(seurat@meta.data$orig, 1, 2)\n",
    "\n",
    "seurat@meta.data$recovery = 2*seurat@meta.data$IGH_recovery + seurat@meta.data$IGL_recovery\n",
    "cbp1 <- c(\"#999999\", \"#E69F00\", \"#56B4E9\", \"#009E73\",\n",
    "          \"#F0E442\", \"#0072B2\", \"#D55E00\", \"#CC79A7\")\n",
    "options(repr.plot.res = 300, repr.plot.height = 4, repr.plot.width =4 )\n",
    "ggplot(seurat@meta.data %>% filter(n_genes > 200, !is.na(Monkey)), aes(x = orig, fill = factor(recovery))) + geom_bar(position = 'fill') + scale_fill_manual(labels = c('No recovery','Light chain only', 'Heavy chain only', 'Paired'), values = cbp1) + \n",
    "labs(x = 'Array', y = 'Fraction of cells', fill = 'BCR\\nRecovery') + theme_classic()+ theme(axis.text.x = element_text(angle = 45, hjust = 1)) "
   ]
  },
  {
   "cell_type": "code",
   "execution_count": 19,
   "metadata": {},
   "outputs": [],
   "source": [
    "saveRDS(hc, 'hc.RDS')\n",
    "saveRDS(lc, 'lc.RDS')"
   ]
  },
  {
   "cell_type": "code",
   "execution_count": 7,
   "metadata": {},
   "outputs": [
    {
     "data": {
      "text/plain": [
       "\n",
       "        0         1 \n",
       "0.7006893 0.2993107 "
      ]
     },
     "metadata": {},
     "output_type": "display_data"
    },
    {
     "data": {
      "text/plain": [
       "\n",
       "        0         1 \n",
       "0.6212055 0.3787945 "
      ]
     },
     "metadata": {},
     "output_type": "display_data"
    },
    {
     "data": {
      "text/html": [
       "0.131690863763015"
      ],
      "text/latex": [
       "0.131690863763015"
      ],
      "text/markdown": [
       "0.131690863763015"
      ],
      "text/plain": [
       "[1] 0.1316909"
      ]
     },
     "metadata": {},
     "output_type": "display_data"
    }
   ],
   "source": [
    "table(seurat$IGH_recovery[seurat$n_genes > 300 ])/length(seurat$IGH_recovery[seurat$n_genes > 100])\n",
    "table(seurat$IGL_recovery[seurat$n_genes > 300])/length(seurat$IGL_recovery[seurat$n_genes > 100])\n",
    "sum(seurat$recovery ==3 )/length(seurat$IGL_recovery[seurat$n_genes > 300])"
   ]
  },
  {
   "cell_type": "code",
   "execution_count": 9,
   "metadata": {},
   "outputs": [
    {
     "data": {
      "text/html": [
       "2"
      ],
      "text/latex": [
       "2"
      ],
      "text/markdown": [
       "2"
      ],
      "text/plain": [
       "[1] 2"
      ]
     },
     "metadata": {},
     "output_type": "display_data"
    },
    {
     "data": {
      "text/html": [
       "2"
      ],
      "text/latex": [
       "2"
      ],
      "text/markdown": [
       "2"
      ],
      "text/plain": [
       "[1] 2"
      ]
     },
     "metadata": {},
     "output_type": "display_data"
    }
   ],
   "source": [
    "write.table(hc, 'hc.tab', sep= '\\t', quote = FALSE, row.names = FALSE)\n",
    "system('python ../BCRProcess/call_seq_consensus.py hc.tab hc_consensus.tab')\n",
    "\n",
    "write.table(lc, 'lc.tab', sep= '\\t', quote = FALSE, row.names = FALSE)\n",
    "system('python ../BCRProcess/call_seq_consensus.py lc.tab lc_consensus.tab')\n"
   ]
  },
  {
   "cell_type": "code",
   "execution_count": 10,
   "metadata": {},
   "outputs": [
    {
     "data": {
      "text/html": [
       "<table class=\"dataframe\">\n",
       "<caption>A grouped_df: 6 × 79</caption>\n",
       "<thead>\n",
       "\t<tr><th scope=col>SEQUENCE_ID</th><th scope=col>SEQUENCE_INPUT</th><th scope=col>FUNCTIONAL</th><th scope=col>IN_FRAME</th><th scope=col>STOP</th><th scope=col>MUTATED_INVARIANT</th><th scope=col>INDELS</th><th scope=col>LOCUS</th><th scope=col>V_CALL</th><th scope=col>D_CALL</th><th scope=col>...</th><th scope=col>N_count</th><th scope=col>N_frac</th><th scope=col>CONSENSUS_SEQUENCE</th><th scope=col>CONSENSUS_SEQCOUNT</th><th scope=col>ERRORDIST</th><th scope=col>CONSENSUS_AMBIG</th><th scope=col>IgM</th><th scope=col>IgG</th><th scope=col>IgA</th><th scope=col>IgD</th></tr>\n",
       "\t<tr><th scope=col>&lt;chr&gt;</th><th scope=col>&lt;chr&gt;</th><th scope=col>&lt;chr&gt;</th><th scope=col>&lt;chr&gt;</th><th scope=col>&lt;chr&gt;</th><th scope=col>&lt;lgl&gt;</th><th scope=col>&lt;chr&gt;</th><th scope=col>&lt;chr&gt;</th><th scope=col>&lt;chr&gt;</th><th scope=col>&lt;chr&gt;</th><th scope=col>...</th><th scope=col>&lt;int&gt;</th><th scope=col>&lt;dbl&gt;</th><th scope=col>&lt;chr&gt;</th><th scope=col>&lt;int&gt;</th><th scope=col>&lt;int&gt;</th><th scope=col>&lt;int&gt;</th><th scope=col>&lt;int&gt;</th><th scope=col>&lt;int&gt;</th><th scope=col>&lt;int&gt;</th><th scope=col>&lt;int&gt;</th></tr>\n",
       "</thead>\n",
       "<tbody>\n",
       "\t<tr><td>AAAAAACCTGTCACCTGGCG</td><td>NNNNNNNNNNNNNNNNNNNNNNNNNTGAAGCCACTGGATTCACCTTCAGTGACTACTACATAAACTGGGTCCGCCAGGCTCCAGGGAAGGGGCCGGAGTGGGTAGGTTGCATTAGAAACAAAGCTAAGGATGGGACAACAGAATACGCCGCGTCTGTGAAAGGCAGATTCACCATCTCAAGAGATGATTCCAAAAGCATTGCCAGCCTGCAAATGAGCAGCCTGAGAACCGAGGACACGGCCGTTTATTACTGTGTTAGAGAGGGACCCCACAGTAAGAACGGGAATATCTACTGGTACTTCGATCTATGGGGCCCTGGCACCCCAATCACCATCTCCGCAGCATCCACCAAGGCTCGTTTCNNNNNNNNNN</td><td>True</td><td>True</td><td>False</td><td>NA</td><td>False</td><td>IGH</td><td>IGHV3-116*02</td><td>IGHD4-23*01,IGHD4-41*01            </td><td>...</td><td>0</td><td>0</td><td>TGAAGCCACT...GGATTCACCTTC............AGTGACTACTACATAAACTGGGTCCGCCAGGCTCCAGGGAAGGGGCCGGAGTGGGTAGGTTGCATTAGAAACAAAGCTAAGGATGGGACAACAGAATACGCCGCGTCTGTGAAA...GGCAGATTCACCATCTCAAGAGATGATTCCAAAAGCATTGCCAGCCTGCAAATGAGCAGCCTGAGAACCGAGGACACGGCCGTTTATTACTGTGTTAGAGAGGGACCCCACAGTAAGAACGGGAATATCTACTGGTACTTCGATCTATGGGGCCCTGGCACCCCAATCACCATCTCCGCAG</td><td>1</td><td>0</td><td>0</td><td>1</td><td>0</td><td>0</td><td>1</td></tr>\n",
       "\t<tr><td>AAATTGGCCCCGGTAACGCG</td><td>NNNNNNNNNNNNNNNNNNNNNNNNNCGCTGTCTCTGGTGGCTCCATCAGCAGTAACTACTGGACCTGGATCCGCCAGCCCCCAGGGAAGGGACTGGAGTGGATTGGACGTATCTCTTATAGTGCTGGGAGCACCGACTACAACCCCTCCCTCAAGAGTCGAGTCACCATTTCAACAGACACGTCCAAGAACCAGTTCTCCCTGAAGCTGAACTCTGTGACCGCCGCGGACACGGCCGTTTATTACTGTGCGAGAGGCTACGGTATCAGTGGATTTGACTACTGGGGCCAGGGAGTCCTGGTCACCGTCTCCTCANNNNNNNNNNN                                               </td><td>True</td><td>True</td><td>False</td><td>NA</td><td>False</td><td>IGH</td><td>IGHV4-173*01</td><td>IGHD4-29*01                        </td><td>...</td><td>0</td><td>0</td><td>CGCTGTCTCT...GGTGGCTCCATC............AGCAGTAACTACTGGACCTGGATCCGCCAGCCCCCAGGGAAGGGACTGGAGTGGATTGGACGTATCTCTTATAGT......GCTGGGAGCACCGACTACAACCCCTCCCTCAAG...AGTCGAGTCACCATTTCAACAGACACGTCCAAGAACCAGTTCTCCCTGAAGCTGAACTCTGTGACCGCCGCGGACACGGCCGTTTATTACTGTGCGAGAGGCTACGGTATCAGTGGATTTGACTACTGGGGCCAGGGAGTCCTGGTCACCGTCTCCTCA                      </td><td>2</td><td>0</td><td>0</td><td>2</td><td>0</td><td>0</td><td>0</td></tr>\n",
       "\t<tr><td>AAGTGCCATTACGATATTGT</td><td>NNNNNNNNNNNNNNNNNNNNNNNNNCACTGTTTCTGGAATCCCCATCAGTACTTACTGGTGGAGCTGGATCCGCCAGACCCCAGAGAAGGGACTGGAGTGGATTGGGGAGATCGATGGGAATGGTGGGGGCACCAACTACAACCCCTCCCTCCAGAGTCGAGTCACCTTTTCAAAAGACGCGTCCAAGAATCAGTTCTCCCTGAGGCTGAACTCTGTGACCGCCGCGGACACGGCCGTGTTTTATTGTGCGAGACTATGGGGCAATGCCTACTGGGGCCAGGGAGTCCTGGTCACCGTCTCCTCACNNNNNNNNNN                                                        </td><td>True</td><td>True</td><td>False</td><td>NA</td><td>False</td><td>IGH</td><td>IGHV4-80*01 </td><td>IGHD4-17*01,IGHD4-4*01             </td><td>...</td><td>0</td><td>0</td><td>..CTGTTTCT...GGAATCCCCATC............AGTACTTACTGGTGGAGCTGGATCCGCCAGACCCCAGAGAAGGGACTGGAGTGGATTGGGGAGATCGATGGGAAT......GGTGGGGGCACCAACTACAACCCCTCCCTCCAG...AGTCGAGTCACCTTTTCAAAAGACGCGTCCAAGAATCAGTTCTCCCTGAGGCTGAACTCTGTGACCGCCGCGGACACGGCCGTGTTTTATTGTGCGAGACTATGGGGCAATGCCTACTGGGGCCAGGGAGTCCTGGTCACCGTCTCCTCA                               </td><td>2</td><td>0</td><td>0</td><td>2</td><td>0</td><td>0</td><td>0</td></tr>\n",
       "\t<tr><td>AATCGGTCCTCGTGAAGCTG</td><td>NNNNNNNNNNNNNNNNNNNNNNNNNCGCTGTCTCTGGTTACTCCTTCAGCAGTGGTTATTTCTGGGGCTGGATCCGTCAGCCCCCAGGGAAGGGACTGGAGTATATTGGATATATCAGTGGTGAAAGTGGGATTACCTACTACAACCCCTCCCTCAAGAGTCGAGTCACCATTTCAAAAGACACGTCCAAAAACCACTTCTCCCTGAAGCTGTACTCTATAACCGCCGCGGACACGGCCGTCTATTACTGTGCGAGACGGGCTATACTTGTTGGCTTTGACTACTGGGGCCAGGGAGTCCTGGTCACCGTCTCNNNNNNNNNN                                                 </td><td>True</td><td>True</td><td>False</td><td>NA</td><td>False</td><td>IGH</td><td>IGHV4-99*01 </td><td>IGHD2-2*01                         </td><td>...</td><td>0</td><td>0</td><td>CGCTGTCTCT...GGTTACTCCTTCAGC.........AGTGGTTATTTCTGGGGCTGGATCCGTCAGCCCCCAGGGAAGGGACTGGAGTATATTGGATATATCAGTGGTGAA......AGTGGGATTACCTACTACAACCCCTCCCTCAAG...AGTCGAGTCACCATTTCAAAAGACACGTCCAANAACCACTTCTCCCTGAAGCTGTACTCTATNACCGCCGCGGACACGGCCGTCTATTACTGTGCGAGACGGGCTATACTTGTTGGCTTTGACTACTGGGGCCAGGGAGTCCTGGTCACCGTCTC                          </td><td>2</td><td>2</td><td>2</td><td>0</td><td>0</td><td>0</td><td>0</td></tr>\n",
       "\t<tr><td>AATGACTAGCCGCGTGGTGC</td><td>NNNNNNNNNNNNNNNNNNNNTGGGGTGCAGCCTCCGGATTCACCTTCAGTGACTACTACATGTACTGGGTCCGCCAGGCTCCAGGAAAGGGGCTGGAGTGGGTGGGTTTCATTAGAAGCAAAGCTTACGGTGGGACAGCAGAATACGCCGCGTCTGTGAAAGGCAGATTCACCATCTCCAGAGATGATTCCAAAAGCATCGCCTATCTGCAAATGAGCAGCCTGAAAACCGAGGACACGGCCGTGTATTACTGTACTAGGGAGAGGATAGCGGCAGAAATTGACTACTGGGGCCAGGGAGTCCTGGTCACCGTCTCCTCANNNNNNNNNNN                                         </td><td>True</td><td>True</td><td>False</td><td>NA</td><td>False</td><td>IGH</td><td>IGHV3-184*02</td><td>IGHD6-25*01                        </td><td>...</td><td>0</td><td>0</td><td>TGCAGCCTCC...GGATTCACCTTC............AGTGACTACTACATGTACTGGGTCCGCCAGGCTCCAGGAAAGGGGCTGGAGTGGGTGGGTTTCATTAGAAGCAAAGCTTACGGTGGGACAGCAGAATACGCCGCGTCTGTGAAA...GGCAGATTCACCATCTCCAGAGATGATTCCAAAAGCATCGCCTATCTGCAAATGAGCAGCCTGAAAACCGAGGACACGGCCGTGTATTACTGTACTAGGGAGAGGATAGCGGCAGAAATTGACTACTGGGGCCAGGGAGTCCTGGTCACCGTCTCCTCA                      </td><td>2</td><td>0</td><td>0</td><td>2</td><td>0</td><td>0</td><td>0</td></tr>\n",
       "\t<tr><td>AATGCGCCACATCCTGTCAC</td><td>NNNNNNNNNNNNNNNNCCCNCTNTCCGCTGTCTCTGGTTACTCCATCAGGAGTGCTTACGAGTGGGGCTGGATCCGTCAGCCCCCAGGGAAGGGACTGGAATATATTGGCTATATCAGTGGTGAAAGTGGGAACACCTACTACAGTCCCTCCCTCAAGAGTCGAGTCACCATTTCAAGGGACACGTCCAAGAACCAGTTCTCCCTGAGGCTGAGTTCTGTGACCGCCGCGGACTCGGCCGTATATTACTGTGCGAGACGTGGGCAGTTAATAGGGTTTGACTTCTGGGGCCAGGGAGTCCTGGTCACCGTCTCCTCACNNNNNNNNNN                                            </td><td>True</td><td>True</td><td>False</td><td>NA</td><td>False</td><td>IGH</td><td>IGHV4-99*01 </td><td>IGHD5-12*01,IGHD5-18*01,IGHD5-24*01</td><td>...</td><td>0</td><td>0</td><td>CGCTGTCTCT...GGTTACTCCATCAGG.........AGTGCTTACGAGTGGGGCTGGATCCGTCAGCCCCCAGGGAAGGGACTGGAATATATTGGCTATATCAGTGGTGAA......AGTGGGAACACCTACTACAGTCCCTCCCTCAAG...AGTCGAGTCACCATTTCAAGGGACACGTCCAAGAACCAGTTCTCCCTGAGGCTGAGTTCTGTGACCGCCGCGGACTCGGCCGTATATTACTGTGCGAGACGTGGGCAGTTAATAGGGTTTGACTTCTGGGGCCAGGGAGTCCTGGTCACCGTCTCCTCA                      </td><td>1</td><td>0</td><td>0</td><td>1</td><td>0</td><td>0</td><td>0</td></tr>\n",
       "</tbody>\n",
       "</table>\n"
      ],
      "text/latex": [
       "A grouped\\_df: 6 × 79\n",
       "\\begin{tabular}{lllllllllllllllllllll}\n",
       " SEQUENCE\\_ID & SEQUENCE\\_INPUT & FUNCTIONAL & IN\\_FRAME & STOP & MUTATED\\_INVARIANT & INDELS & LOCUS & V\\_CALL & D\\_CALL & ... & N\\_count & N\\_frac & CONSENSUS\\_SEQUENCE & CONSENSUS\\_SEQCOUNT & ERRORDIST & CONSENSUS\\_AMBIG & IgM & IgG & IgA & IgD\\\\\n",
       " <chr> & <chr> & <chr> & <chr> & <chr> & <lgl> & <chr> & <chr> & <chr> & <chr> & ... & <int> & <dbl> & <chr> & <int> & <int> & <int> & <int> & <int> & <int> & <int>\\\\\n",
       "\\hline\n",
       "\t AAAAAACCTGTCACCTGGCG & NNNNNNNNNNNNNNNNNNNNNNNNNTGAAGCCACTGGATTCACCTTCAGTGACTACTACATAAACTGGGTCCGCCAGGCTCCAGGGAAGGGGCCGGAGTGGGTAGGTTGCATTAGAAACAAAGCTAAGGATGGGACAACAGAATACGCCGCGTCTGTGAAAGGCAGATTCACCATCTCAAGAGATGATTCCAAAAGCATTGCCAGCCTGCAAATGAGCAGCCTGAGAACCGAGGACACGGCCGTTTATTACTGTGTTAGAGAGGGACCCCACAGTAAGAACGGGAATATCTACTGGTACTTCGATCTATGGGGCCCTGGCACCCCAATCACCATCTCCGCAGCATCCACCAAGGCTCGTTTCNNNNNNNNNN & True & True & False & NA & False & IGH & IGHV3-116*02 & IGHD4-23*01,IGHD4-41*01             & ... & 0 & 0 & TGAAGCCACT...GGATTCACCTTC............AGTGACTACTACATAAACTGGGTCCGCCAGGCTCCAGGGAAGGGGCCGGAGTGGGTAGGTTGCATTAGAAACAAAGCTAAGGATGGGACAACAGAATACGCCGCGTCTGTGAAA...GGCAGATTCACCATCTCAAGAGATGATTCCAAAAGCATTGCCAGCCTGCAAATGAGCAGCCTGAGAACCGAGGACACGGCCGTTTATTACTGTGTTAGAGAGGGACCCCACAGTAAGAACGGGAATATCTACTGGTACTTCGATCTATGGGGCCCTGGCACCCCAATCACCATCTCCGCAG & 1 & 0 & 0 & 1 & 0 & 0 & 1\\\\\n",
       "\t AAATTGGCCCCGGTAACGCG & NNNNNNNNNNNNNNNNNNNNNNNNNCGCTGTCTCTGGTGGCTCCATCAGCAGTAACTACTGGACCTGGATCCGCCAGCCCCCAGGGAAGGGACTGGAGTGGATTGGACGTATCTCTTATAGTGCTGGGAGCACCGACTACAACCCCTCCCTCAAGAGTCGAGTCACCATTTCAACAGACACGTCCAAGAACCAGTTCTCCCTGAAGCTGAACTCTGTGACCGCCGCGGACACGGCCGTTTATTACTGTGCGAGAGGCTACGGTATCAGTGGATTTGACTACTGGGGCCAGGGAGTCCTGGTCACCGTCTCCTCANNNNNNNNNNN                                                & True & True & False & NA & False & IGH & IGHV4-173*01 & IGHD4-29*01                         & ... & 0 & 0 & CGCTGTCTCT...GGTGGCTCCATC............AGCAGTAACTACTGGACCTGGATCCGCCAGCCCCCAGGGAAGGGACTGGAGTGGATTGGACGTATCTCTTATAGT......GCTGGGAGCACCGACTACAACCCCTCCCTCAAG...AGTCGAGTCACCATTTCAACAGACACGTCCAAGAACCAGTTCTCCCTGAAGCTGAACTCTGTGACCGCCGCGGACACGGCCGTTTATTACTGTGCGAGAGGCTACGGTATCAGTGGATTTGACTACTGGGGCCAGGGAGTCCTGGTCACCGTCTCCTCA                       & 2 & 0 & 0 & 2 & 0 & 0 & 0\\\\\n",
       "\t AAGTGCCATTACGATATTGT & NNNNNNNNNNNNNNNNNNNNNNNNNCACTGTTTCTGGAATCCCCATCAGTACTTACTGGTGGAGCTGGATCCGCCAGACCCCAGAGAAGGGACTGGAGTGGATTGGGGAGATCGATGGGAATGGTGGGGGCACCAACTACAACCCCTCCCTCCAGAGTCGAGTCACCTTTTCAAAAGACGCGTCCAAGAATCAGTTCTCCCTGAGGCTGAACTCTGTGACCGCCGCGGACACGGCCGTGTTTTATTGTGCGAGACTATGGGGCAATGCCTACTGGGGCCAGGGAGTCCTGGTCACCGTCTCCTCACNNNNNNNNNN                                                         & True & True & False & NA & False & IGH & IGHV4-80*01  & IGHD4-17*01,IGHD4-4*01              & ... & 0 & 0 & ..CTGTTTCT...GGAATCCCCATC............AGTACTTACTGGTGGAGCTGGATCCGCCAGACCCCAGAGAAGGGACTGGAGTGGATTGGGGAGATCGATGGGAAT......GGTGGGGGCACCAACTACAACCCCTCCCTCCAG...AGTCGAGTCACCTTTTCAAAAGACGCGTCCAAGAATCAGTTCTCCCTGAGGCTGAACTCTGTGACCGCCGCGGACACGGCCGTGTTTTATTGTGCGAGACTATGGGGCAATGCCTACTGGGGCCAGGGAGTCCTGGTCACCGTCTCCTCA                                & 2 & 0 & 0 & 2 & 0 & 0 & 0\\\\\n",
       "\t AATCGGTCCTCGTGAAGCTG & NNNNNNNNNNNNNNNNNNNNNNNNNCGCTGTCTCTGGTTACTCCTTCAGCAGTGGTTATTTCTGGGGCTGGATCCGTCAGCCCCCAGGGAAGGGACTGGAGTATATTGGATATATCAGTGGTGAAAGTGGGATTACCTACTACAACCCCTCCCTCAAGAGTCGAGTCACCATTTCAAAAGACACGTCCAAAAACCACTTCTCCCTGAAGCTGTACTCTATAACCGCCGCGGACACGGCCGTCTATTACTGTGCGAGACGGGCTATACTTGTTGGCTTTGACTACTGGGGCCAGGGAGTCCTGGTCACCGTCTCNNNNNNNNNN                                                  & True & True & False & NA & False & IGH & IGHV4-99*01  & IGHD2-2*01                          & ... & 0 & 0 & CGCTGTCTCT...GGTTACTCCTTCAGC.........AGTGGTTATTTCTGGGGCTGGATCCGTCAGCCCCCAGGGAAGGGACTGGAGTATATTGGATATATCAGTGGTGAA......AGTGGGATTACCTACTACAACCCCTCCCTCAAG...AGTCGAGTCACCATTTCAAAAGACACGTCCAANAACCACTTCTCCCTGAAGCTGTACTCTATNACCGCCGCGGACACGGCCGTCTATTACTGTGCGAGACGGGCTATACTTGTTGGCTTTGACTACTGGGGCCAGGGAGTCCTGGTCACCGTCTC                           & 2 & 2 & 2 & 0 & 0 & 0 & 0\\\\\n",
       "\t AATGACTAGCCGCGTGGTGC & NNNNNNNNNNNNNNNNNNNNTGGGGTGCAGCCTCCGGATTCACCTTCAGTGACTACTACATGTACTGGGTCCGCCAGGCTCCAGGAAAGGGGCTGGAGTGGGTGGGTTTCATTAGAAGCAAAGCTTACGGTGGGACAGCAGAATACGCCGCGTCTGTGAAAGGCAGATTCACCATCTCCAGAGATGATTCCAAAAGCATCGCCTATCTGCAAATGAGCAGCCTGAAAACCGAGGACACGGCCGTGTATTACTGTACTAGGGAGAGGATAGCGGCAGAAATTGACTACTGGGGCCAGGGAGTCCTGGTCACCGTCTCCTCANNNNNNNNNNN                                          & True & True & False & NA & False & IGH & IGHV3-184*02 & IGHD6-25*01                         & ... & 0 & 0 & TGCAGCCTCC...GGATTCACCTTC............AGTGACTACTACATGTACTGGGTCCGCCAGGCTCCAGGAAAGGGGCTGGAGTGGGTGGGTTTCATTAGAAGCAAAGCTTACGGTGGGACAGCAGAATACGCCGCGTCTGTGAAA...GGCAGATTCACCATCTCCAGAGATGATTCCAAAAGCATCGCCTATCTGCAAATGAGCAGCCTGAAAACCGAGGACACGGCCGTGTATTACTGTACTAGGGAGAGGATAGCGGCAGAAATTGACTACTGGGGCCAGGGAGTCCTGGTCACCGTCTCCTCA                       & 2 & 0 & 0 & 2 & 0 & 0 & 0\\\\\n",
       "\t AATGCGCCACATCCTGTCAC & NNNNNNNNNNNNNNNNCCCNCTNTCCGCTGTCTCTGGTTACTCCATCAGGAGTGCTTACGAGTGGGGCTGGATCCGTCAGCCCCCAGGGAAGGGACTGGAATATATTGGCTATATCAGTGGTGAAAGTGGGAACACCTACTACAGTCCCTCCCTCAAGAGTCGAGTCACCATTTCAAGGGACACGTCCAAGAACCAGTTCTCCCTGAGGCTGAGTTCTGTGACCGCCGCGGACTCGGCCGTATATTACTGTGCGAGACGTGGGCAGTTAATAGGGTTTGACTTCTGGGGCCAGGGAGTCCTGGTCACCGTCTCCTCACNNNNNNNNNN                                             & True & True & False & NA & False & IGH & IGHV4-99*01  & IGHD5-12*01,IGHD5-18*01,IGHD5-24*01 & ... & 0 & 0 & CGCTGTCTCT...GGTTACTCCATCAGG.........AGTGCTTACGAGTGGGGCTGGATCCGTCAGCCCCCAGGGAAGGGACTGGAATATATTGGCTATATCAGTGGTGAA......AGTGGGAACACCTACTACAGTCCCTCCCTCAAG...AGTCGAGTCACCATTTCAAGGGACACGTCCAAGAACCAGTTCTCCCTGAGGCTGAGTTCTGTGACCGCCGCGGACTCGGCCGTATATTACTGTGCGAGACGTGGGCAGTTAATAGGGTTTGACTTCTGGGGCCAGGGAGTCCTGGTCACCGTCTCCTCA                       & 1 & 0 & 0 & 1 & 0 & 0 & 0\\\\\n",
       "\\end{tabular}\n"
      ],
      "text/markdown": [
       "\n",
       "A grouped_df: 6 × 79\n",
       "\n",
       "| SEQUENCE_ID &lt;chr&gt; | SEQUENCE_INPUT &lt;chr&gt; | FUNCTIONAL &lt;chr&gt; | IN_FRAME &lt;chr&gt; | STOP &lt;chr&gt; | MUTATED_INVARIANT &lt;lgl&gt; | INDELS &lt;chr&gt; | LOCUS &lt;chr&gt; | V_CALL &lt;chr&gt; | D_CALL &lt;chr&gt; | ... ... | N_count &lt;int&gt; | N_frac &lt;dbl&gt; | CONSENSUS_SEQUENCE &lt;chr&gt; | CONSENSUS_SEQCOUNT &lt;int&gt; | ERRORDIST &lt;int&gt; | CONSENSUS_AMBIG &lt;int&gt; | IgM &lt;int&gt; | IgG &lt;int&gt; | IgA &lt;int&gt; | IgD &lt;int&gt; |\n",
       "|---|---|---|---|---|---|---|---|---|---|---|---|---|---|---|---|---|---|---|---|---|\n",
       "| AAAAAACCTGTCACCTGGCG | NNNNNNNNNNNNNNNNNNNNNNNNNTGAAGCCACTGGATTCACCTTCAGTGACTACTACATAAACTGGGTCCGCCAGGCTCCAGGGAAGGGGCCGGAGTGGGTAGGTTGCATTAGAAACAAAGCTAAGGATGGGACAACAGAATACGCCGCGTCTGTGAAAGGCAGATTCACCATCTCAAGAGATGATTCCAAAAGCATTGCCAGCCTGCAAATGAGCAGCCTGAGAACCGAGGACACGGCCGTTTATTACTGTGTTAGAGAGGGACCCCACAGTAAGAACGGGAATATCTACTGGTACTTCGATCTATGGGGCCCTGGCACCCCAATCACCATCTCCGCAGCATCCACCAAGGCTCGTTTCNNNNNNNNNN | True | True | False | NA | False | IGH | IGHV3-116*02 | IGHD4-23*01,IGHD4-41*01             | ... | 0 | 0 | TGAAGCCACT...GGATTCACCTTC............AGTGACTACTACATAAACTGGGTCCGCCAGGCTCCAGGGAAGGGGCCGGAGTGGGTAGGTTGCATTAGAAACAAAGCTAAGGATGGGACAACAGAATACGCCGCGTCTGTGAAA...GGCAGATTCACCATCTCAAGAGATGATTCCAAAAGCATTGCCAGCCTGCAAATGAGCAGCCTGAGAACCGAGGACACGGCCGTTTATTACTGTGTTAGAGAGGGACCCCACAGTAAGAACGGGAATATCTACTGGTACTTCGATCTATGGGGCCCTGGCACCCCAATCACCATCTCCGCAG | 1 | 0 | 0 | 1 | 0 | 0 | 1 |\n",
       "| AAATTGGCCCCGGTAACGCG | NNNNNNNNNNNNNNNNNNNNNNNNNCGCTGTCTCTGGTGGCTCCATCAGCAGTAACTACTGGACCTGGATCCGCCAGCCCCCAGGGAAGGGACTGGAGTGGATTGGACGTATCTCTTATAGTGCTGGGAGCACCGACTACAACCCCTCCCTCAAGAGTCGAGTCACCATTTCAACAGACACGTCCAAGAACCAGTTCTCCCTGAAGCTGAACTCTGTGACCGCCGCGGACACGGCCGTTTATTACTGTGCGAGAGGCTACGGTATCAGTGGATTTGACTACTGGGGCCAGGGAGTCCTGGTCACCGTCTCCTCANNNNNNNNNNN                                                | True | True | False | NA | False | IGH | IGHV4-173*01 | IGHD4-29*01                         | ... | 0 | 0 | CGCTGTCTCT...GGTGGCTCCATC............AGCAGTAACTACTGGACCTGGATCCGCCAGCCCCCAGGGAAGGGACTGGAGTGGATTGGACGTATCTCTTATAGT......GCTGGGAGCACCGACTACAACCCCTCCCTCAAG...AGTCGAGTCACCATTTCAACAGACACGTCCAAGAACCAGTTCTCCCTGAAGCTGAACTCTGTGACCGCCGCGGACACGGCCGTTTATTACTGTGCGAGAGGCTACGGTATCAGTGGATTTGACTACTGGGGCCAGGGAGTCCTGGTCACCGTCTCCTCA                       | 2 | 0 | 0 | 2 | 0 | 0 | 0 |\n",
       "| AAGTGCCATTACGATATTGT | NNNNNNNNNNNNNNNNNNNNNNNNNCACTGTTTCTGGAATCCCCATCAGTACTTACTGGTGGAGCTGGATCCGCCAGACCCCAGAGAAGGGACTGGAGTGGATTGGGGAGATCGATGGGAATGGTGGGGGCACCAACTACAACCCCTCCCTCCAGAGTCGAGTCACCTTTTCAAAAGACGCGTCCAAGAATCAGTTCTCCCTGAGGCTGAACTCTGTGACCGCCGCGGACACGGCCGTGTTTTATTGTGCGAGACTATGGGGCAATGCCTACTGGGGCCAGGGAGTCCTGGTCACCGTCTCCTCACNNNNNNNNNN                                                         | True | True | False | NA | False | IGH | IGHV4-80*01  | IGHD4-17*01,IGHD4-4*01              | ... | 0 | 0 | ..CTGTTTCT...GGAATCCCCATC............AGTACTTACTGGTGGAGCTGGATCCGCCAGACCCCAGAGAAGGGACTGGAGTGGATTGGGGAGATCGATGGGAAT......GGTGGGGGCACCAACTACAACCCCTCCCTCCAG...AGTCGAGTCACCTTTTCAAAAGACGCGTCCAAGAATCAGTTCTCCCTGAGGCTGAACTCTGTGACCGCCGCGGACACGGCCGTGTTTTATTGTGCGAGACTATGGGGCAATGCCTACTGGGGCCAGGGAGTCCTGGTCACCGTCTCCTCA                                | 2 | 0 | 0 | 2 | 0 | 0 | 0 |\n",
       "| AATCGGTCCTCGTGAAGCTG | NNNNNNNNNNNNNNNNNNNNNNNNNCGCTGTCTCTGGTTACTCCTTCAGCAGTGGTTATTTCTGGGGCTGGATCCGTCAGCCCCCAGGGAAGGGACTGGAGTATATTGGATATATCAGTGGTGAAAGTGGGATTACCTACTACAACCCCTCCCTCAAGAGTCGAGTCACCATTTCAAAAGACACGTCCAAAAACCACTTCTCCCTGAAGCTGTACTCTATAACCGCCGCGGACACGGCCGTCTATTACTGTGCGAGACGGGCTATACTTGTTGGCTTTGACTACTGGGGCCAGGGAGTCCTGGTCACCGTCTCNNNNNNNNNN                                                  | True | True | False | NA | False | IGH | IGHV4-99*01  | IGHD2-2*01                          | ... | 0 | 0 | CGCTGTCTCT...GGTTACTCCTTCAGC.........AGTGGTTATTTCTGGGGCTGGATCCGTCAGCCCCCAGGGAAGGGACTGGAGTATATTGGATATATCAGTGGTGAA......AGTGGGATTACCTACTACAACCCCTCCCTCAAG...AGTCGAGTCACCATTTCAAAAGACACGTCCAANAACCACTTCTCCCTGAAGCTGTACTCTATNACCGCCGCGGACACGGCCGTCTATTACTGTGCGAGACGGGCTATACTTGTTGGCTTTGACTACTGGGGCCAGGGAGTCCTGGTCACCGTCTC                           | 2 | 2 | 2 | 0 | 0 | 0 | 0 |\n",
       "| AATGACTAGCCGCGTGGTGC | NNNNNNNNNNNNNNNNNNNNTGGGGTGCAGCCTCCGGATTCACCTTCAGTGACTACTACATGTACTGGGTCCGCCAGGCTCCAGGAAAGGGGCTGGAGTGGGTGGGTTTCATTAGAAGCAAAGCTTACGGTGGGACAGCAGAATACGCCGCGTCTGTGAAAGGCAGATTCACCATCTCCAGAGATGATTCCAAAAGCATCGCCTATCTGCAAATGAGCAGCCTGAAAACCGAGGACACGGCCGTGTATTACTGTACTAGGGAGAGGATAGCGGCAGAAATTGACTACTGGGGCCAGGGAGTCCTGGTCACCGTCTCCTCANNNNNNNNNNN                                          | True | True | False | NA | False | IGH | IGHV3-184*02 | IGHD6-25*01                         | ... | 0 | 0 | TGCAGCCTCC...GGATTCACCTTC............AGTGACTACTACATGTACTGGGTCCGCCAGGCTCCAGGAAAGGGGCTGGAGTGGGTGGGTTTCATTAGAAGCAAAGCTTACGGTGGGACAGCAGAATACGCCGCGTCTGTGAAA...GGCAGATTCACCATCTCCAGAGATGATTCCAAAAGCATCGCCTATCTGCAAATGAGCAGCCTGAAAACCGAGGACACGGCCGTGTATTACTGTACTAGGGAGAGGATAGCGGCAGAAATTGACTACTGGGGCCAGGGAGTCCTGGTCACCGTCTCCTCA                       | 2 | 0 | 0 | 2 | 0 | 0 | 0 |\n",
       "| AATGCGCCACATCCTGTCAC | NNNNNNNNNNNNNNNNCCCNCTNTCCGCTGTCTCTGGTTACTCCATCAGGAGTGCTTACGAGTGGGGCTGGATCCGTCAGCCCCCAGGGAAGGGACTGGAATATATTGGCTATATCAGTGGTGAAAGTGGGAACACCTACTACAGTCCCTCCCTCAAGAGTCGAGTCACCATTTCAAGGGACACGTCCAAGAACCAGTTCTCCCTGAGGCTGAGTTCTGTGACCGCCGCGGACTCGGCCGTATATTACTGTGCGAGACGTGGGCAGTTAATAGGGTTTGACTTCTGGGGCCAGGGAGTCCTGGTCACCGTCTCCTCACNNNNNNNNNN                                             | True | True | False | NA | False | IGH | IGHV4-99*01  | IGHD5-12*01,IGHD5-18*01,IGHD5-24*01 | ... | 0 | 0 | CGCTGTCTCT...GGTTACTCCATCAGG.........AGTGCTTACGAGTGGGGCTGGATCCGTCAGCCCCCAGGGAAGGGACTGGAATATATTGGCTATATCAGTGGTGAA......AGTGGGAACACCTACTACAGTCCCTCCCTCAAG...AGTCGAGTCACCATTTCAAGGGACACGTCCAAGAACCAGTTCTCCCTGAGGCTGAGTTCTGTGACCGCCGCGGACTCGGCCGTATATTACTGTGCGAGACGTGGGCAGTTAATAGGGTTTGACTTCTGGGGCCAGGGAGTCCTGGTCACCGTCTCCTCA                       | 1 | 0 | 0 | 1 | 0 | 0 | 0 |\n",
       "\n"
      ],
      "text/plain": [
       "  SEQUENCE_ID         \n",
       "1 AAAAAACCTGTCACCTGGCG\n",
       "2 AAATTGGCCCCGGTAACGCG\n",
       "3 AAGTGCCATTACGATATTGT\n",
       "4 AATCGGTCCTCGTGAAGCTG\n",
       "5 AATGACTAGCCGCGTGGTGC\n",
       "6 AATGCGCCACATCCTGTCAC\n",
       "  SEQUENCE_INPUT                                                                                                                                                                                                                                                                                                                                                                      \n",
       "1 NNNNNNNNNNNNNNNNNNNNNNNNNTGAAGCCACTGGATTCACCTTCAGTGACTACTACATAAACTGGGTCCGCCAGGCTCCAGGGAAGGGGCCGGAGTGGGTAGGTTGCATTAGAAACAAAGCTAAGGATGGGACAACAGAATACGCCGCGTCTGTGAAAGGCAGATTCACCATCTCAAGAGATGATTCCAAAAGCATTGCCAGCCTGCAAATGAGCAGCCTGAGAACCGAGGACACGGCCGTTTATTACTGTGTTAGAGAGGGACCCCACAGTAAGAACGGGAATATCTACTGGTACTTCGATCTATGGGGCCCTGGCACCCCAATCACCATCTCCGCAGCATCCACCAAGGCTCGTTTCNNNNNNNNNN\n",
       "2 NNNNNNNNNNNNNNNNNNNNNNNNNCGCTGTCTCTGGTGGCTCCATCAGCAGTAACTACTGGACCTGGATCCGCCAGCCCCCAGGGAAGGGACTGGAGTGGATTGGACGTATCTCTTATAGTGCTGGGAGCACCGACTACAACCCCTCCCTCAAGAGTCGAGTCACCATTTCAACAGACACGTCCAAGAACCAGTTCTCCCTGAAGCTGAACTCTGTGACCGCCGCGGACACGGCCGTTTATTACTGTGCGAGAGGCTACGGTATCAGTGGATTTGACTACTGGGGCCAGGGAGTCCTGGTCACCGTCTCCTCANNNNNNNNNNN                                               \n",
       "3 NNNNNNNNNNNNNNNNNNNNNNNNNCACTGTTTCTGGAATCCCCATCAGTACTTACTGGTGGAGCTGGATCCGCCAGACCCCAGAGAAGGGACTGGAGTGGATTGGGGAGATCGATGGGAATGGTGGGGGCACCAACTACAACCCCTCCCTCCAGAGTCGAGTCACCTTTTCAAAAGACGCGTCCAAGAATCAGTTCTCCCTGAGGCTGAACTCTGTGACCGCCGCGGACACGGCCGTGTTTTATTGTGCGAGACTATGGGGCAATGCCTACTGGGGCCAGGGAGTCCTGGTCACCGTCTCCTCACNNNNNNNNNN                                                        \n",
       "4 NNNNNNNNNNNNNNNNNNNNNNNNNCGCTGTCTCTGGTTACTCCTTCAGCAGTGGTTATTTCTGGGGCTGGATCCGTCAGCCCCCAGGGAAGGGACTGGAGTATATTGGATATATCAGTGGTGAAAGTGGGATTACCTACTACAACCCCTCCCTCAAGAGTCGAGTCACCATTTCAAAAGACACGTCCAAAAACCACTTCTCCCTGAAGCTGTACTCTATAACCGCCGCGGACACGGCCGTCTATTACTGTGCGAGACGGGCTATACTTGTTGGCTTTGACTACTGGGGCCAGGGAGTCCTGGTCACCGTCTCNNNNNNNNNN                                                 \n",
       "5 NNNNNNNNNNNNNNNNNNNNTGGGGTGCAGCCTCCGGATTCACCTTCAGTGACTACTACATGTACTGGGTCCGCCAGGCTCCAGGAAAGGGGCTGGAGTGGGTGGGTTTCATTAGAAGCAAAGCTTACGGTGGGACAGCAGAATACGCCGCGTCTGTGAAAGGCAGATTCACCATCTCCAGAGATGATTCCAAAAGCATCGCCTATCTGCAAATGAGCAGCCTGAAAACCGAGGACACGGCCGTGTATTACTGTACTAGGGAGAGGATAGCGGCAGAAATTGACTACTGGGGCCAGGGAGTCCTGGTCACCGTCTCCTCANNNNNNNNNNN                                         \n",
       "6 NNNNNNNNNNNNNNNNCCCNCTNTCCGCTGTCTCTGGTTACTCCATCAGGAGTGCTTACGAGTGGGGCTGGATCCGTCAGCCCCCAGGGAAGGGACTGGAATATATTGGCTATATCAGTGGTGAAAGTGGGAACACCTACTACAGTCCCTCCCTCAAGAGTCGAGTCACCATTTCAAGGGACACGTCCAAGAACCAGTTCTCCCTGAGGCTGAGTTCTGTGACCGCCGCGGACTCGGCCGTATATTACTGTGCGAGACGTGGGCAGTTAATAGGGTTTGACTTCTGGGGCCAGGGAGTCCTGGTCACCGTCTCCTCACNNNNNNNNNN                                            \n",
       "  FUNCTIONAL IN_FRAME STOP  MUTATED_INVARIANT INDELS LOCUS V_CALL      \n",
       "1 True       True     False NA                False  IGH   IGHV3-116*02\n",
       "2 True       True     False NA                False  IGH   IGHV4-173*01\n",
       "3 True       True     False NA                False  IGH   IGHV4-80*01 \n",
       "4 True       True     False NA                False  IGH   IGHV4-99*01 \n",
       "5 True       True     False NA                False  IGH   IGHV3-184*02\n",
       "6 True       True     False NA                False  IGH   IGHV4-99*01 \n",
       "  D_CALL                              ... N_count N_frac\n",
       "1 IGHD4-23*01,IGHD4-41*01             ... 0       0     \n",
       "2 IGHD4-29*01                         ... 0       0     \n",
       "3 IGHD4-17*01,IGHD4-4*01              ... 0       0     \n",
       "4 IGHD2-2*01                          ... 0       0     \n",
       "5 IGHD6-25*01                         ... 0       0     \n",
       "6 IGHD5-12*01,IGHD5-18*01,IGHD5-24*01 ... 0       0     \n",
       "  CONSENSUS_SEQUENCE                                                                                                                                                                                                                                                                                                                             \n",
       "1 TGAAGCCACT...GGATTCACCTTC............AGTGACTACTACATAAACTGGGTCCGCCAGGCTCCAGGGAAGGGGCCGGAGTGGGTAGGTTGCATTAGAAACAAAGCTAAGGATGGGACAACAGAATACGCCGCGTCTGTGAAA...GGCAGATTCACCATCTCAAGAGATGATTCCAAAAGCATTGCCAGCCTGCAAATGAGCAGCCTGAGAACCGAGGACACGGCCGTTTATTACTGTGTTAGAGAGGGACCCCACAGTAAGAACGGGAATATCTACTGGTACTTCGATCTATGGGGCCCTGGCACCCCAATCACCATCTCCGCAG\n",
       "2 CGCTGTCTCT...GGTGGCTCCATC............AGCAGTAACTACTGGACCTGGATCCGCCAGCCCCCAGGGAAGGGACTGGAGTGGATTGGACGTATCTCTTATAGT......GCTGGGAGCACCGACTACAACCCCTCCCTCAAG...AGTCGAGTCACCATTTCAACAGACACGTCCAAGAACCAGTTCTCCCTGAAGCTGAACTCTGTGACCGCCGCGGACACGGCCGTTTATTACTGTGCGAGAGGCTACGGTATCAGTGGATTTGACTACTGGGGCCAGGGAGTCCTGGTCACCGTCTCCTCA                      \n",
       "3 ..CTGTTTCT...GGAATCCCCATC............AGTACTTACTGGTGGAGCTGGATCCGCCAGACCCCAGAGAAGGGACTGGAGTGGATTGGGGAGATCGATGGGAAT......GGTGGGGGCACCAACTACAACCCCTCCCTCCAG...AGTCGAGTCACCTTTTCAAAAGACGCGTCCAAGAATCAGTTCTCCCTGAGGCTGAACTCTGTGACCGCCGCGGACACGGCCGTGTTTTATTGTGCGAGACTATGGGGCAATGCCTACTGGGGCCAGGGAGTCCTGGTCACCGTCTCCTCA                               \n",
       "4 CGCTGTCTCT...GGTTACTCCTTCAGC.........AGTGGTTATTTCTGGGGCTGGATCCGTCAGCCCCCAGGGAAGGGACTGGAGTATATTGGATATATCAGTGGTGAA......AGTGGGATTACCTACTACAACCCCTCCCTCAAG...AGTCGAGTCACCATTTCAAAAGACACGTCCAANAACCACTTCTCCCTGAAGCTGTACTCTATNACCGCCGCGGACACGGCCGTCTATTACTGTGCGAGACGGGCTATACTTGTTGGCTTTGACTACTGGGGCCAGGGAGTCCTGGTCACCGTCTC                          \n",
       "5 TGCAGCCTCC...GGATTCACCTTC............AGTGACTACTACATGTACTGGGTCCGCCAGGCTCCAGGAAAGGGGCTGGAGTGGGTGGGTTTCATTAGAAGCAAAGCTTACGGTGGGACAGCAGAATACGCCGCGTCTGTGAAA...GGCAGATTCACCATCTCCAGAGATGATTCCAAAAGCATCGCCTATCTGCAAATGAGCAGCCTGAAAACCGAGGACACGGCCGTGTATTACTGTACTAGGGAGAGGATAGCGGCAGAAATTGACTACTGGGGCCAGGGAGTCCTGGTCACCGTCTCCTCA                      \n",
       "6 CGCTGTCTCT...GGTTACTCCATCAGG.........AGTGCTTACGAGTGGGGCTGGATCCGTCAGCCCCCAGGGAAGGGACTGGAATATATTGGCTATATCAGTGGTGAA......AGTGGGAACACCTACTACAGTCCCTCCCTCAAG...AGTCGAGTCACCATTTCAAGGGACACGTCCAAGAACCAGTTCTCCCTGAGGCTGAGTTCTGTGACCGCCGCGGACTCGGCCGTATATTACTGTGCGAGACGTGGGCAGTTAATAGGGTTTGACTTCTGGGGCCAGGGAGTCCTGGTCACCGTCTCCTCA                      \n",
       "  CONSENSUS_SEQCOUNT ERRORDIST CONSENSUS_AMBIG IgM IgG IgA IgD\n",
       "1 1                  0         0               1   0   0   1  \n",
       "2 2                  0         0               2   0   0   0  \n",
       "3 2                  0         0               2   0   0   0  \n",
       "4 2                  2         2               0   0   0   0  \n",
       "5 2                  0         0               2   0   0   0  \n",
       "6 1                  0         0               1   0   0   0  "
      ]
     },
     "metadata": {},
     "output_type": "display_data"
    }
   ],
   "source": [
    "cell_consensus_hc = read.table('hc_consensus.tab', stringsAsFactors = FALSE, sep = '\\t', header = TRUE) %>% \n",
    "group_by(LANE_ID, Sample, BC) %>% filter(ERRORDIST < 10) %>% mutate(IgM = sum(ISOTYPE == 'IGHM'), IgG = sum(ISOTYPE == 'IGHG1/2'), IgA = sum(ISOTYPE == 'IGHA'), \n",
    "                                                                    IgD = sum(ISOTYPE == 'IGHD')) %>% \n",
    "                                                                    arrange((ERRORDIST), desc(R2CONSCOUNT)) %>% slice(1) #%>% summarize(n = n())\n",
    "head(cell_consensus_hc)\n",
    "\n",
    "cell_consensus_lc = read.table('lc_consensus.tab', stringsAsFactors = FALSE, sep = '\\t', header = TRUE) %>% \n",
    "group_by(LANE_ID, Sample, BC) %>% arrange((ERRORDIST)) %>% slice(1) #%>% summarize(n = n())\n",
    "#head(cell_consensus_lc)"
   ]
  },
  {
   "cell_type": "code",
   "execution_count": 11,
   "metadata": {},
   "outputs": [
    {
     "name": "stderr",
     "output_type": "stream",
     "text": [
      "Warning message:\n",
      "\"package 'alakazam' was built under R version 4.1.3\"\n",
      "As of v1.0.0 the AIRR Rearrangement schema is now the default file format.\n",
      "A description of the standard is available at https://docs.airr-community.org.\n",
      "The legacy Change-O format is supported through arguments to each function\n",
      "that allow the input column names to be explicitly defined.\n",
      "\n"
     ]
    },
    {
     "data": {
      "text/html": [
       "<style>\n",
       ".list-inline {list-style: none; margin:0; padding: 0}\n",
       ".list-inline>li {display: inline-block}\n",
       ".list-inline>li:not(:last-child)::after {content: \"\\00b7\"; padding: 0 .5ex}\n",
       "</style>\n",
       "<ol class=list-inline><li>2328</li><li>86</li></ol>\n"
      ],
      "text/latex": [
       "\\begin{enumerate*}\n",
       "\\item 2328\n",
       "\\item 86\n",
       "\\end{enumerate*}\n"
      ],
      "text/markdown": [
       "1. 2328\n",
       "2. 86\n",
       "\n",
       "\n"
      ],
      "text/plain": [
       "[1] 2328   86"
      ]
     },
     "metadata": {},
     "output_type": "display_data"
    },
    {
     "data": {
      "text/html": [
       "<style>\n",
       ".list-inline {list-style: none; margin:0; padding: 0}\n",
       ".list-inline>li {display: inline-block}\n",
       ".list-inline>li:not(:last-child)::after {content: \"\\00b7\"; padding: 0 .5ex}\n",
       "</style>\n",
       "<ol class=list-inline><li>2328</li><li>86</li></ol>\n"
      ],
      "text/latex": [
       "\\begin{enumerate*}\n",
       "\\item 2328\n",
       "\\item 86\n",
       "\\end{enumerate*}\n"
      ],
      "text/markdown": [
       "1. 2328\n",
       "2. 86\n",
       "\n",
       "\n"
      ],
      "text/plain": [
       "[1] 2328   86"
      ]
     },
     "metadata": {},
     "output_type": "display_data"
    }
   ],
   "source": [
    "library(alakazam)\n",
    "library(stringr)\n",
    "cell_consensus_hc[,c('FWR1nuc', 'CDR1nuc', 'FWR2nuc', 'CDR2nuc', 'FWR3nuc')]= extractVRegion(cell_consensus_hc$CONSENSUS_SEQUENCE, region = c('fwr1', 'cdr1', 'fwr2', 'cdr2', 'fwr3')) %>% as.data.frame()\n",
    "cell_consensus_hc$JUNCTION_START = NA\n",
    "cell_consensus_hc$CDR3nuc = NA\n",
    "dim(cell_consensus_hc)\n",
    "cell_consensus_hc = cell_consensus_hc %>% filter(FWR3nuc != '')\n",
    "dim(cell_consensus_hc)\n",
    "for (i in 1:nrow(cell_consensus_hc)) {\n",
    "    cell_consensus_hc$JUNCTION_START[i] = as.numeric(gregexpr(cell_consensus_hc$CONSENSUS_SEQUENCE[i], pattern = cell_consensus_hc$FWR3nuc[i])) + str_length(cell_consensus_hc$FWR3nuc[i])-3\n",
    "    cell_consensus_hc$CDR3nuc[i] = substring(cell_consensus_hc$CONSENSUS_SEQUENCE[i], cell_consensus_hc$JUNCTION_START[i], cell_consensus_hc$JUNCTION_START[i] + str_length(cell_consensus_hc$JUNCTION[i]) -1)\n",
    "}\n",
    "\n",
    "cell_consensus_lc[,c('FWR1nuc', 'CDR1nuc', 'FWR2nuc', 'CDR2nuc', 'FWR3nuc')]= extractVRegion(cell_consensus_lc$CONSENSUS_SEQUENCE, region = c('fwr1', 'cdr1', 'fwr2', 'cdr2', 'fwr3')) %>% as.data.frame()\n",
    "cell_consensus_lc$JUNCTION_START = NA\n",
    "cell_consensus_lc$CDR3nuc = NA\n",
    "\n",
    "for (i in 1:nrow(cell_consensus_lc)) {\n",
    "    cell_consensus_lc$JUNCTION_START[i] = as.numeric(gregexpr(cell_consensus_lc$CONSENSUS_SEQUENCE[i], pattern = cell_consensus_lc$FWR3nuc[i])) + str_length(cell_consensus_lc$FWR3nuc[i])-3\n",
    "    #cell_consensus_lc$CDR3nuc[i] = substring(cell_consensus_lc$CONSENSUS_SEQUENCE[i], cell_consensus_lc$JUNCTION_START[i], cell_consensus_lc$JUNCTION_START[i] + str_length(cell_consensus_lc$JUNCTION[i]) -1)\n",
    "}\n",
    "\n",
    "\n"
   ]
  },
  {
   "cell_type": "code",
   "execution_count": 12,
   "metadata": {},
   "outputs": [],
   "source": [
    "library(alakazam)\n",
    "\n",
    "cell_consensus_hc$CDR1 = translateDNA(cell_consensus_hc$CDR1nuc)\n",
    "cell_consensus_lc$CDR1 = translateDNA(cell_consensus_lc$CDR1nuc)\n",
    "\n",
    "cell_consensus_hc$CDR3 = translateDNA(cell_consensus_hc$CDR3nuc)\n",
    "cell_consensus_lc$CDR3 = translateDNA(cell_consensus_lc$CDR3nuc)\n",
    "\n",
    "cell_consensus_hc$CDR2 = translateDNA(cell_consensus_hc$CDR2nuc)\n",
    "cell_consensus_lc$CDR2 = translateDNA(cell_consensus_lc$CDR2nuc)\n"
   ]
  },
  {
   "cell_type": "code",
   "execution_count": 13,
   "metadata": {},
   "outputs": [],
   "source": [
    "cell_consensus_hc$Monkey = seurat$Monkey[match(cell_consensus_hc$LANE_ID, seurat$id)]\n",
    "for (curr in unique(cell_consensus_hc$Monkey)) {\n",
    "    write.table(cell_consensus_hc %>% filter(Monkey == curr), paste0('C:/Users/dmorgan/IgPhyMl/', curr, '.tab'), quote = FALSE, row.names = FALSE, sep = '\\t')\n",
    "}"
   ]
  },
  {
   "cell_type": "code",
   "execution_count": 14,
   "metadata": {},
   "outputs": [],
   "source": [
    "files = list.files('C:/Users/dmorgan/IgPhyMl/')\n",
    "files = files[grep(x = files, pattern = 'germ-pass.tab')][1:8]\n",
    "files = paste0('C:/Users/dmorgan/IgPhyMl/', files)\n",
    "for (curr in files) {\n",
    "   if (curr == files[1]) {\n",
    "       df = read.table(curr, stringsAsFactors = FALSE, header = TRUE, sep = '\\t')\n",
    "   } \n",
    "   else {\n",
    "       df = rbind(df, read.table(curr, stringsAsFactors = FALSE, header = TRUE, sep = '\\t'))\n",
    "   }    \n",
    "}\n",
    "\n",
    "df$CLONE = paste0(df$MONKEY, df$CLONE)\n",
    "seurat$CLONE = df$CLONE[match(seurat$id, df$LANE_ID)]"
   ]
  },
  {
   "cell_type": "code",
   "execution_count": 15,
   "metadata": {},
   "outputs": [
    {
     "data": {
      "text/plain": [
       "\n",
       " A19N27465 A19N274112 A19N274114  A19N27475 A19N274113 A19N274111 \n",
       "        19         13         12          7          6          4 "
      ]
     },
     "metadata": {},
     "output_type": "display_data"
    }
   ],
   "source": [
    "library(dplyr)\n",
    "tab = table(seurat$CLONE)\n",
    "tab[order(tab, decreasing = TRUE)] %>% head()"
   ]
  },
  {
   "cell_type": "code",
   "execution_count": 16,
   "metadata": {},
   "outputs": [
    {
     "name": "stderr",
     "output_type": "stream",
     "text": [
      "Warning message:\n",
      "\"package 'shazam' was built under R version 4.1.3\"\n",
      "As of v1.0.0 the AIRR Rearrangement schema is now the default file format.\n",
      "A description of the standard is available at https://docs.airr-community.org.\n",
      "The legacy Change-O format is supported through arguments to each function\n",
      "that allow the input column names to be explicitly defined.\n",
      "\n"
     ]
    }
   ],
   "source": [
    "library(shazam)\n",
    "cell_consensus_hc = observedMutations(df, sequenceColumn = 'CONSENSUS_SEQUENCE', germlineColumn = 'GERMLINE_SEQUENCE_D_MASK', \n",
    "                                      frequency = TRUE) %>% mutate(MU_FREQ_TOTAL = mu_freq_seq_r + mu_freq_seq_s) %>% as.data.frame()\n",
    "cell_consensus_lc = observedMutations(cell_consensus_lc, sequenceColumn = 'CONSENSUS_SEQUENCE', germlineColumn = 'GERMLINE_IMGT', \n",
    "                                      frequency = TRUE) %>% mutate(MU_FREQ_TOTAL = mu_freq_seq_r + mu_freq_seq_s)  %>% as.data.frame()"
   ]
  },
  {
   "cell_type": "code",
   "execution_count": 17,
   "metadata": {},
   "outputs": [],
   "source": [
    "                               \n",
    "seurat@meta.data$ISOTYPE = cell_consensus_hc[seurat@meta.data$id, 'ISOTYPE']                   \n",
    "seurat@meta.data$ISOTYPEL = cell_consensus_lc[seurat@meta.data$id, 'ISOTYPE']                   \n"
   ]
  },
  {
   "cell_type": "code",
   "execution_count": 18,
   "metadata": {},
   "outputs": [
    {
     "data": {
      "text/html": [
       "<table class=\"dataframe\">\n",
       "<caption>A data.frame: 6 × 33</caption>\n",
       "<thead>\n",
       "\t<tr><th></th><th scope=col>orig.ident</th><th scope=col>nCount_RNA</th><th scope=col>nFeature_RNA</th><th scope=col>orig</th><th scope=col>bc</th><th scope=col>n_genes</th><th scope=col>n_counts</th><th scope=col>leiden</th><th scope=col>id</th><th scope=col>quality_BC</th><th scope=col>...</th><th scope=col>IGH_recovery</th><th scope=col>IGL_recovery</th><th scope=col>recovery</th><th scope=col>CLONE</th><th scope=col>ISOTYPE</th><th scope=col>ISOTYPEL</th><th scope=col>IGHV</th><th scope=col>IGLV</th><th scope=col>IGHJ</th><th scope=col>IGH_MU_FREQ</th></tr>\n",
       "\t<tr><th></th><th scope=col>&lt;chr&gt;</th><th scope=col>&lt;dbl&gt;</th><th scope=col>&lt;int&gt;</th><th scope=col>&lt;chr&gt;</th><th scope=col>&lt;chr&gt;</th><th scope=col>&lt;int&gt;</th><th scope=col>&lt;dbl&gt;</th><th scope=col>&lt;int&gt;</th><th scope=col>&lt;chr&gt;</th><th scope=col>&lt;chr&gt;</th><th scope=col>...</th><th scope=col>&lt;dbl&gt;</th><th scope=col>&lt;dbl&gt;</th><th scope=col>&lt;dbl&gt;</th><th scope=col>&lt;chr&gt;</th><th scope=col>&lt;chr&gt;</th><th scope=col>&lt;chr&gt;</th><th scope=col>&lt;chr&gt;</th><th scope=col>&lt;chr&gt;</th><th scope=col>&lt;chr&gt;</th><th scope=col>&lt;dbl&gt;</th></tr>\n",
       "</thead>\n",
       "<tbody>\n",
       "\t<tr><th scope=row>AB1_0</th><td>AB1</td><td>4373</td><td>1779</td><td>AB1</td><td>AAAAAACCTGTC</td><td>1779</td><td>4373</td><td>4</td><td>AB1AAAAAACCTGTC</td><td>True</td><td>...</td><td>1</td><td>1</td><td>3</td><td>NA      </td><td>NA</td><td>NA</td><td>NA          </td><td>IGKV1S16*01</td><td>NA      </td><td>        NA</td></tr>\n",
       "\t<tr><th scope=row>AB1_1</th><td>AB1</td><td>1124</td><td> 660</td><td>AB1</td><td>AAAAAGAGGCTA</td><td> 660</td><td>1124</td><td>7</td><td>AB1AAAAAGAGGCTA</td><td>True</td><td>...</td><td>0</td><td>0</td><td>0</td><td>NA      </td><td>NA</td><td>NA</td><td>NA          </td><td>NA         </td><td>NA      </td><td>        NA</td></tr>\n",
       "\t<tr><th scope=row>AB1_3</th><td>AB1</td><td>1016</td><td> 482</td><td>AB1</td><td>AAAAGGCCGGGG</td><td> 482</td><td>1016</td><td>4</td><td>AB1AAAAGGCCGGGG</td><td>True</td><td>...</td><td>0</td><td>0</td><td>0</td><td>NA      </td><td>NA</td><td>NA</td><td>NA          </td><td>NA         </td><td>NA      </td><td>        NA</td></tr>\n",
       "\t<tr><th scope=row>AB1_4</th><td>AB1</td><td>2276</td><td>1099</td><td>AB1</td><td>AAAATTAGAGGA</td><td>1099</td><td>2276</td><td>4</td><td>AB1AAAATTAGAGGA</td><td>True</td><td>...</td><td>0</td><td>1</td><td>1</td><td>NA      </td><td>NA</td><td>NA</td><td>NA          </td><td>IGKV2-72*02</td><td>NA      </td><td>        NA</td></tr>\n",
       "\t<tr><th scope=row>AB1_7</th><td>AB1</td><td>2266</td><td> 949</td><td>AB1</td><td>AAACACGGCTAC</td><td> 949</td><td>2266</td><td>4</td><td>AB1AAACACGGCTAC</td><td>True</td><td>...</td><td>0</td><td>1</td><td>1</td><td>NA      </td><td>NA</td><td>NA</td><td>NA          </td><td>IGLV2-13*02</td><td>NA      </td><td>        NA</td></tr>\n",
       "\t<tr><th scope=row>AB1_14</th><td>AB1</td><td>4818</td><td>1586</td><td>AB1</td><td>AAATTGGCCCCG</td><td>1586</td><td>4818</td><td>2</td><td>AB1AAATTGGCCCCG</td><td>True</td><td>...</td><td>1</td><td>1</td><td>3</td><td>A19N2752</td><td>NA</td><td>NA</td><td>IGHV4-173*01</td><td>IGKV2-72*01</td><td>IGHJ4*01</td><td>0.02205882</td></tr>\n",
       "</tbody>\n",
       "</table>\n"
      ],
      "text/latex": [
       "A data.frame: 6 × 33\n",
       "\\begin{tabular}{r|lllllllllllllllllllll}\n",
       "  & orig.ident & nCount\\_RNA & nFeature\\_RNA & orig & bc & n\\_genes & n\\_counts & leiden & id & quality\\_BC & ... & IGH\\_recovery & IGL\\_recovery & recovery & CLONE & ISOTYPE & ISOTYPEL & IGHV & IGLV & IGHJ & IGH\\_MU\\_FREQ\\\\\n",
       "  & <chr> & <dbl> & <int> & <chr> & <chr> & <int> & <dbl> & <int> & <chr> & <chr> & ... & <dbl> & <dbl> & <dbl> & <chr> & <chr> & <chr> & <chr> & <chr> & <chr> & <dbl>\\\\\n",
       "\\hline\n",
       "\tAB1\\_0 & AB1 & 4373 & 1779 & AB1 & AAAAAACCTGTC & 1779 & 4373 & 4 & AB1AAAAAACCTGTC & True & ... & 1 & 1 & 3 & NA       & NA & NA & NA           & IGKV1S16*01 & NA       &         NA\\\\\n",
       "\tAB1\\_1 & AB1 & 1124 &  660 & AB1 & AAAAAGAGGCTA &  660 & 1124 & 7 & AB1AAAAAGAGGCTA & True & ... & 0 & 0 & 0 & NA       & NA & NA & NA           & NA          & NA       &         NA\\\\\n",
       "\tAB1\\_3 & AB1 & 1016 &  482 & AB1 & AAAAGGCCGGGG &  482 & 1016 & 4 & AB1AAAAGGCCGGGG & True & ... & 0 & 0 & 0 & NA       & NA & NA & NA           & NA          & NA       &         NA\\\\\n",
       "\tAB1\\_4 & AB1 & 2276 & 1099 & AB1 & AAAATTAGAGGA & 1099 & 2276 & 4 & AB1AAAATTAGAGGA & True & ... & 0 & 1 & 1 & NA       & NA & NA & NA           & IGKV2-72*02 & NA       &         NA\\\\\n",
       "\tAB1\\_7 & AB1 & 2266 &  949 & AB1 & AAACACGGCTAC &  949 & 2266 & 4 & AB1AAACACGGCTAC & True & ... & 0 & 1 & 1 & NA       & NA & NA & NA           & IGLV2-13*02 & NA       &         NA\\\\\n",
       "\tAB1\\_14 & AB1 & 4818 & 1586 & AB1 & AAATTGGCCCCG & 1586 & 4818 & 2 & AB1AAATTGGCCCCG & True & ... & 1 & 1 & 3 & A19N2752 & NA & NA & IGHV4-173*01 & IGKV2-72*01 & IGHJ4*01 & 0.02205882\\\\\n",
       "\\end{tabular}\n"
      ],
      "text/markdown": [
       "\n",
       "A data.frame: 6 × 33\n",
       "\n",
       "| <!--/--> | orig.ident &lt;chr&gt; | nCount_RNA &lt;dbl&gt; | nFeature_RNA &lt;int&gt; | orig &lt;chr&gt; | bc &lt;chr&gt; | n_genes &lt;int&gt; | n_counts &lt;dbl&gt; | leiden &lt;int&gt; | id &lt;chr&gt; | quality_BC &lt;chr&gt; | ... ... | IGH_recovery &lt;dbl&gt; | IGL_recovery &lt;dbl&gt; | recovery &lt;dbl&gt; | CLONE &lt;chr&gt; | ISOTYPE &lt;chr&gt; | ISOTYPEL &lt;chr&gt; | IGHV &lt;chr&gt; | IGLV &lt;chr&gt; | IGHJ &lt;chr&gt; | IGH_MU_FREQ &lt;dbl&gt; |\n",
       "|---|---|---|---|---|---|---|---|---|---|---|---|---|---|---|---|---|---|---|---|---|---|\n",
       "| AB1_0 | AB1 | 4373 | 1779 | AB1 | AAAAAACCTGTC | 1779 | 4373 | 4 | AB1AAAAAACCTGTC | True | ... | 1 | 1 | 3 | NA       | NA | NA | NA           | IGKV1S16*01 | NA       |         NA |\n",
       "| AB1_1 | AB1 | 1124 |  660 | AB1 | AAAAAGAGGCTA |  660 | 1124 | 7 | AB1AAAAAGAGGCTA | True | ... | 0 | 0 | 0 | NA       | NA | NA | NA           | NA          | NA       |         NA |\n",
       "| AB1_3 | AB1 | 1016 |  482 | AB1 | AAAAGGCCGGGG |  482 | 1016 | 4 | AB1AAAAGGCCGGGG | True | ... | 0 | 0 | 0 | NA       | NA | NA | NA           | NA          | NA       |         NA |\n",
       "| AB1_4 | AB1 | 2276 | 1099 | AB1 | AAAATTAGAGGA | 1099 | 2276 | 4 | AB1AAAATTAGAGGA | True | ... | 0 | 1 | 1 | NA       | NA | NA | NA           | IGKV2-72*02 | NA       |         NA |\n",
       "| AB1_7 | AB1 | 2266 |  949 | AB1 | AAACACGGCTAC |  949 | 2266 | 4 | AB1AAACACGGCTAC | True | ... | 0 | 1 | 1 | NA       | NA | NA | NA           | IGLV2-13*02 | NA       |         NA |\n",
       "| AB1_14 | AB1 | 4818 | 1586 | AB1 | AAATTGGCCCCG | 1586 | 4818 | 2 | AB1AAATTGGCCCCG | True | ... | 1 | 1 | 3 | A19N2752 | NA | NA | IGHV4-173*01 | IGKV2-72*01 | IGHJ4*01 | 0.02205882 |\n",
       "\n"
      ],
      "text/plain": [
       "       orig.ident nCount_RNA nFeature_RNA orig bc           n_genes n_counts\n",
       "AB1_0  AB1        4373       1779         AB1  AAAAAACCTGTC 1779    4373    \n",
       "AB1_1  AB1        1124        660         AB1  AAAAAGAGGCTA  660    1124    \n",
       "AB1_3  AB1        1016        482         AB1  AAAAGGCCGGGG  482    1016    \n",
       "AB1_4  AB1        2276       1099         AB1  AAAATTAGAGGA 1099    2276    \n",
       "AB1_7  AB1        2266        949         AB1  AAACACGGCTAC  949    2266    \n",
       "AB1_14 AB1        4818       1586         AB1  AAATTGGCCCCG 1586    4818    \n",
       "       leiden id              quality_BC ... IGH_recovery IGL_recovery recovery\n",
       "AB1_0  4      AB1AAAAAACCTGTC True       ... 1            1            3       \n",
       "AB1_1  7      AB1AAAAAGAGGCTA True       ... 0            0            0       \n",
       "AB1_3  4      AB1AAAAGGCCGGGG True       ... 0            0            0       \n",
       "AB1_4  4      AB1AAAATTAGAGGA True       ... 0            1            1       \n",
       "AB1_7  4      AB1AAACACGGCTAC True       ... 0            1            1       \n",
       "AB1_14 2      AB1AAATTGGCCCCG True       ... 1            1            3       \n",
       "       CLONE    ISOTYPE ISOTYPEL IGHV         IGLV        IGHJ     IGH_MU_FREQ\n",
       "AB1_0  NA       NA      NA       NA           IGKV1S16*01 NA               NA \n",
       "AB1_1  NA       NA      NA       NA           NA          NA               NA \n",
       "AB1_3  NA       NA      NA       NA           NA          NA               NA \n",
       "AB1_4  NA       NA      NA       NA           IGKV2-72*02 NA               NA \n",
       "AB1_7  NA       NA      NA       NA           IGLV2-13*02 NA               NA \n",
       "AB1_14 A19N2752 NA      NA       IGHV4-173*01 IGKV2-72*01 IGHJ4*01 0.02205882 "
      ]
     },
     "metadata": {},
     "output_type": "display_data"
    }
   ],
   "source": [
    "rownames(cell_consensus_hc) = cell_consensus_hc$LANE_ID\n",
    "rownames(cell_consensus_lc) = cell_consensus_lc$LANE_ID\n",
    "\n",
    "\n",
    "seurat@meta.data$IGHV = cell_consensus_hc[seurat@meta.data$id, 'V_CALL']\n",
    "seurat@meta.data$IGHV = sapply(seurat@meta.data$IGHV, function(x) str_split(x, ',')[[1]][1])\n",
    "seurat@meta.data$IGLV = cell_consensus_lc[seurat@meta.data$id, 'V_CALL']\n",
    "seurat@meta.data$IGLV = sapply(seurat@meta.data$IGLV, function(x) str_split(x, ',')[[1]][1])\n",
    "seurat@meta.data$IGHJ = cell_consensus_hc[seurat@meta.data$id, 'J_CALL']\n",
    "seurat@meta.data$IGHJ = sapply(seurat@meta.data$IGHJ, function(x) str_split(x, ',')[[1]][1])                         \n",
    "seurat@meta.data$IGH_MU_FREQ = cell_consensus_hc[seurat@meta.data$id, 'MU_FREQ_TOTAL']                   \n",
    "head(seurat@meta.data)                    \n",
    "seurat@meta.data$IGH_CDR3 = cell_consensus_hc[seurat@meta.data$id, 'CDR3']                               \n",
    "seurat@meta.data$IGL_CDR3 = cell_consensus_lc[seurat@meta.data$id, 'CDR3']                               \n",
    "seurat@meta.data$IGH_CDR3_nuc = cell_consensus_hc[seurat@meta.data$id, 'CDR3_IMGT']                               \n",
    "seurat@meta.data$IGL_CDR3_nuc = cell_consensus_lc[seurat@meta.data$id, 'CDR3_IMGT']  \n",
    "seurat@meta.data$IGL_MU_FREQ = cell_consensus_lc[seurat@meta.data$id, 'MU_FREQ_TOTAL']                   \n",
    "                               \n",
    "seurat@meta.data$IGH_CDR2 = cell_consensus_hc[seurat@meta.data$id, 'CDR2']                               \n",
    "seurat@meta.data$IGH_CDR1 = cell_consensus_hc[seurat@meta.data$id, 'CDR1']                               \n",
    "seurat@meta.data$IGL_CDR1 = cell_consensus_lc[seurat@meta.data$id, 'CDR1']                               \n",
    "seurat@meta.data$IGL_CDR2 = cell_consensus_lc[seurat@meta.data$id, 'CDR2']                               \n",
    "\n",
    "\n",
    "                               \n",
    "seurat@meta.data$ISOTYPE = cell_consensus_hc[seurat@meta.data$id, 'ISOTYPE']                   \n",
    "seurat@meta.data$ISOTYPEL = cell_consensus_lc[seurat@meta.data$id, 'ISOTYPE']                   \n",
    "\n"
   ]
  },
  {
   "cell_type": "code",
   "execution_count": 8,
   "metadata": {},
   "outputs": [],
   "source": [
    "saveRDS(df, 'cell_consensus_hc.RDS')\n"
   ]
  },
  {
   "cell_type": "code",
   "execution_count": 39,
   "metadata": {},
   "outputs": [],
   "source": [
    "saveRDS(cell_consensus_lc, 'cell_consensus_lc.RDS')\n"
   ]
  },
  {
   "cell_type": "code",
   "execution_count": 11,
   "metadata": {},
   "outputs": [],
   "source": [
    "saveRDS(df, 'cell_consensus_hc.RDS')\n",
    "saveRDS(cell_consensus_lc, 'cell_consensus_lc.RDS')\n",
    "#saveRDS(seurat@meta.data, 'BCRmeta.RDS')"
   ]
  }
 ],
 "metadata": {
  "kernelspec": {
   "display_name": "Rv4",
   "language": "R",
   "name": "ir4"
  },
  "language_info": {
   "codemirror_mode": "r",
   "file_extension": ".r",
   "mimetype": "text/x-r-source",
   "name": "R",
   "pygments_lexer": "r",
   "version": "4.1.0"
  }
 },
 "nbformat": 4,
 "nbformat_minor": 4
}
