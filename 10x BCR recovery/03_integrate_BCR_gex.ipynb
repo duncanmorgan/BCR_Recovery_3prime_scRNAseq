{
 "cells": [
  {
   "cell_type": "code",
   "execution_count": 1,
   "id": "eb8ddc91-c200-4de9-983b-20402b1d4aa0",
   "metadata": {},
   "outputs": [
    {
     "name": "stderr",
     "output_type": "stream",
     "text": [
      "\n",
      "Attaching package: ‘dplyr’\n",
      "\n",
      "\n",
      "The following objects are masked from ‘package:stats’:\n",
      "\n",
      "    filter, lag\n",
      "\n",
      "\n",
      "The following objects are masked from ‘package:base’:\n",
      "\n",
      "    intersect, setdiff, setequal, union\n",
      "\n",
      "\n",
      "Loading required package: viridisLite\n",
      "\n",
      "\n",
      "\n",
      "To cite the SHazaM package in publications, please use:\n",
      "\n",
      "  Gupta N, Vander Heiden J, Uduman M, Gadala-Maria D, Yaari G,\n",
      "  Kleinstein S (2015). “Change-O: a toolkit for analyzing large-scale B\n",
      "  cell immunoglobulin repertoire sequencing data.” _Bioinformatics_,\n",
      "  1-3. doi:10.1093/bioinformatics/btv359\n",
      "  <https://doi.org/10.1093/bioinformatics/btv359>.\n",
      "\n",
      "To cite the selection analysis methods, please use:\n",
      "\n",
      "  Yaari G, Uduman M, Kleinstein S (2012). “Quantifying selection in\n",
      "  high-throughput Immunoglobulin sequencing data sets.” _Nucleic acids\n",
      "  research_, *40*(17), e134. doi:10.1093/nar/gks457\n",
      "  <https://doi.org/10.1093/nar/gks457>.\n",
      "\n",
      "To cite the HH_S5F model and the targeting model generation methods,\n",
      "please use:\n",
      "\n",
      "  Yaari G, Vander Heiden J, Uduman M, Gadala-Maria D, Gupta N, Stern J,\n",
      "  O'Connor K, Hafler D, Lasserson U, Vigneault F, Kleinstein S (2013).\n",
      "  “Models of somatic hypermutation targeting and substitution based on\n",
      "  synonymous mutations from high-throughput immunoglobulin sequencing\n",
      "  data.” _Frontiers in Immunology_, *4*(358), 1-11.\n",
      "  doi:10.3389/fimmu.2013.00358\n",
      "  <https://doi.org/10.3389/fimmu.2013.00358>.\n",
      "\n",
      "To cite the HKL_S1F, HKL_S5F, MK_RS1NF, and MK_RS5NF models, please\n",
      "use:\n",
      "\n",
      "  Cui A, Di Niro R, Vander Heiden J, Briggs A, Adams K, Gilbert T,\n",
      "  O'Connor K, Vigneault F, Shlomchik M, Kleinstein S (2016). “A Model\n",
      "  of Somatic Hypermutation Targeting in Mice Based on High-Throughput\n",
      "  Ig Sequencing Data.” _The Journal of Immunology_, *197*(9),\n",
      "  3566-3574. doi:10.4049/jimmunol.1502263\n",
      "  <https://doi.org/10.4049/jimmunol.1502263>.\n",
      "\n",
      "To see these entries in BibTeX format, use 'format(<citation>,\n",
      "bibtex=TRUE)', or 'toBibtex(.)'.\n",
      "\n",
      "Loading required package: SeuratObject\n",
      "\n",
      "Loading required package: sp\n",
      "\n",
      "‘SeuratObject’ was built under R 4.3.1 but the current version is\n",
      "4.3.2; it is recomended that you reinstall ‘SeuratObject’ as the ABI\n",
      "for R may have changed\n",
      "\n",
      "‘SeuratObject’ was built with package ‘Matrix’ 1.6.3 but the current\n",
      "version is 1.6.5; it is recomended that you reinstall ‘SeuratObject’ as\n",
      "the ABI for ‘Matrix’ may have changed\n",
      "\n",
      "\n",
      "Attaching package: ‘SeuratObject’\n",
      "\n",
      "\n",
      "The following object is masked from ‘package:base’:\n",
      "\n",
      "    intersect\n",
      "\n",
      "\n"
     ]
    }
   ],
   "source": [
    "library(ggplot2)\n",
    "library(stringr)\n",
    "library(dplyr)\n",
    "library(viridis)\n",
    "library(ggbeeswarm)\n",
    "library(ggpubr)\n",
    "library(reshape2)\n",
    "library(RColorBrewer)\n",
    "library(shazam)\n",
    "library(Seurat)\n",
    "library(ggrastr)"
   ]
  },
  {
   "cell_type": "code",
   "execution_count": 2,
   "id": "9404cc04-e42a-46f0-9d68-61bfdae42ab7",
   "metadata": {},
   "outputs": [],
   "source": [
    "jz.save.umap.coord <- function(object) {\n",
    "    # saves the UMAP embedding to the metadata \n",
    "    umapCoord <- as.data.frame(Embeddings(object = object[[\"umap\"]]))\n",
    "    object@meta.data$UMAP1 = umapCoord$umap_1\n",
    "    object@meta.data$UMAP2 = umapCoord$umap_2\n",
    "    return(object)\n",
    "}"
   ]
  },
  {
   "cell_type": "code",
   "execution_count": 3,
   "id": "f0a557fa-09e1-4ef6-899e-bbac20a433e9",
   "metadata": {},
   "outputs": [
    {
     "data": {
      "text/plain": [
       "An object of class Seurat \n",
       "21228 features across 51751 samples within 1 assay \n",
       "Active assay: RNA (21228 features, 2000 variable features)\n",
       " 3 layers present: data, counts, scale.data\n",
       " 2 dimensional reductions calculated: pca, umap"
      ]
     },
     "metadata": {},
     "output_type": "display_data"
    }
   ],
   "source": [
    "srat = readRDS('seurat_objects/03_cellphenotype_labeled_300.RDS')\n",
    "# create a column to match bcr df \n",
    "srat$cell.id = str_split_i(srat$cell.id,'-',1)\n",
    "srat"
   ]
  },
  {
   "cell_type": "code",
   "execution_count": 4,
   "id": "6b391aef-fb64-4f05-a1be-dc58cf92e895",
   "metadata": {},
   "outputs": [
    {
     "data": {
      "text/plain": [
       "    Min.  1st Qu.   Median     Mean  3rd Qu.     Max. \n",
       "     5.0     17.0     39.0    361.1     91.0 125084.0 "
      ]
     },
     "metadata": {},
     "output_type": "display_data"
    },
    {
     "data": {
      "text/plain": [
       "   Min. 1st Qu.  Median    Mean 3rd Qu.    Max. \n",
       "0.00000 0.00000 0.00000 0.07959 0.00000 5.00000 "
      ]
     },
     "metadata": {},
     "output_type": "display_data"
    },
    {
     "data": {
      "text/html": [
       "<table class=\"dataframe\">\n",
       "<caption>A data.frame: 2 × 72</caption>\n",
       "<thead>\n",
       "\t<tr><th></th><th scope=col>SEQUENCE_ID</th><th scope=col>SEQUENCE_INPUT</th><th scope=col>FUNCTIONAL</th><th scope=col>IN_FRAME</th><th scope=col>STOP</th><th scope=col>MUTATED_INVARIANT</th><th scope=col>INDELS</th><th scope=col>LOCUS</th><th scope=col>V_CALL</th><th scope=col>D_CALL</th><th scope=col>⋯</th><th scope=col>PVAL</th><th scope=col>SAMPLE</th><th scope=col>ID</th><th scope=col>SEQUENCE_TRIM</th><th scope=col>N_count</th><th scope=col>N_frac</th><th scope=col>barcode</th><th scope=col>sample</th><th scope=col>cell.id</th><th scope=col>chain</th></tr>\n",
       "\t<tr><th></th><th scope=col>&lt;chr&gt;</th><th scope=col>&lt;chr&gt;</th><th scope=col>&lt;lgl&gt;</th><th scope=col>&lt;lgl&gt;</th><th scope=col>&lt;lgl&gt;</th><th scope=col>&lt;lgl&gt;</th><th scope=col>&lt;lgl&gt;</th><th scope=col>&lt;chr&gt;</th><th scope=col>&lt;chr&gt;</th><th scope=col>&lt;chr&gt;</th><th scope=col>⋯</th><th scope=col>&lt;dbl&gt;</th><th scope=col>&lt;chr&gt;</th><th scope=col>&lt;chr&gt;</th><th scope=col>&lt;chr&gt;</th><th scope=col>&lt;int&gt;</th><th scope=col>&lt;dbl&gt;</th><th scope=col>&lt;chr&gt;</th><th scope=col>&lt;chr&gt;</th><th scope=col>&lt;chr&gt;</th><th scope=col>&lt;chr&gt;</th></tr>\n",
       "</thead>\n",
       "<tbody>\n",
       "\t<tr><th scope=row>1</th><td>CACAACATCCCACAGGCCCTTAATCGAG</td><td>NNNNNNNNNNNNNNNNNNNNNNNNNCGCTGTCTCTGGTTACTCCATCAGCAGTGGTTACTACTGGGGCTGGATCCGGCAGCCCCCAGGGAAGGGGCTGGAGTGGATTGGGAGTATCTATCATAGTGGGAGCACCTACTACAACCCGTCCCTCAAGAGTCGAGTCACCATATCAGTAGACACGTCCAAGAACCAGTTCTCCCTGAAGCTGAGCTCTGTGACCGCCGCAGACACGGCCGTGTATTACTGTGCGTCAACATGTAACGGGGAGCTATCCGAAAGTTGTTTCGACCCCTGGGGCCAGGGAACCCTGGTCACCGTCTCCTCAGNNNNNNNNNN</td><td>TRUE</td><td>TRUE</td><td>FALSE</td><td>NA</td><td>FALSE</td><td>IGH</td><td>IGHV4-38-2*01</td><td>IGHD3-10*01,IGHD3-10*02,IGHD3-16*02</td><td>⋯</td><td>1.1102e-16</td><td>H1H</td><td>H1H_CACAACATCCCACAGGCCCTTAATCGAG</td><td>CGCTGTCTCTGGTTACTCCATCAGCAGTGGTTACTACTGGGGCTGGATCCGGCAGCCCCCAGGGAAGGGGCTGGAGTGGATTGGGAGTATCTATCATAGTGGGAGCACCTACTACAACCCGTCCCTCAAGAGTCGAGTCACCATATCAGTAGACACGTCCAAGAACCAGTTCTCCCTGAAGCTGAGCTCTGTGACCGCCGCAGACACGGCCGTGTATTACTGTGCGTCAACATGTAACGGGGAGCTATCCGAAAGTTGTTTCGACCCCTGGGGCCAGGGAACCCTGGTCACCGTCTCCTCAG</td><td>0</td><td>0</td><td>CACAACATCCCACAGG</td><td>H1</td><td>H1_CACAACATCCCACAGG</td><td>heavy</td></tr>\n",
       "\t<tr><th scope=row>2</th><td>GGGTTATGTTCTCGCTGATGTAGCGACA</td><td>NNNNNNNNNNNNNNNNNNNNNNNNNGCTTCTGGATACACCTTCACCGGCTACTATATGCACTGGGTGCGACAGGCCCCTGGACAAGGGCTTGAGTGGATGGGATGGATCAACCCTAACAGTGGTGGCACAAACTATGCACAGAAGTTTCAGGGCAGGGTCACCATGACCAGGGACACGTCCATCAGCACAGCCTACATGGAGCTGAGCAGGCTGAGATCTGACGACACGGCCGTGTATTACTGTGCGAGAGTTACCACTATATTACGATTTTTGGAGTGGTCCTTGGGGTACTGGGGCCAGGGAACGCTGGTCACCGTCTCCTCAGNNNNNNNNNN </td><td>TRUE</td><td>TRUE</td><td>FALSE</td><td>NA</td><td>FALSE</td><td>IGH</td><td>IGHV1-2*02   </td><td>IGHD3-3*01                         </td><td>⋯</td><td>1.1102e-16</td><td>H1H</td><td>H1H_GGGTTATGTTCTCGCTGATGTAGCGACA</td><td>GCTTCTGGATACACCTTCACCGGCTACTATATGCACTGGGTGCGACAGGCCCCTGGACAAGGGCTTGAGTGGATGGGATGGATCAACCCTAACAGTGGTGGCACAAACTATGCACAGAAGTTTCAGGGCAGGGTCACCATGACCAGGGACACGTCCATCAGCACAGCCTACATGGAGCTGAGCAGGCTGAGATCTGACGACACGGCCGTGTATTACTGTGCGAGAGTTACCACTATATTACGATTTTTGGAGTGGTCCTTGGGGTACTGGGGCCAGGGAACGCTGGTCACCGTCTCCTCAG </td><td>0</td><td>0</td><td>GGGTTATGTTCTCGCT</td><td>H1</td><td>H1_GGGTTATGTTCTCGCT</td><td>heavy</td></tr>\n",
       "</tbody>\n",
       "</table>\n"
      ],
      "text/latex": [
       "A data.frame: 2 × 72\n",
       "\\begin{tabular}{r|lllllllllllllllllllll}\n",
       "  & SEQUENCE\\_ID & SEQUENCE\\_INPUT & FUNCTIONAL & IN\\_FRAME & STOP & MUTATED\\_INVARIANT & INDELS & LOCUS & V\\_CALL & D\\_CALL & ⋯ & PVAL & SAMPLE & ID & SEQUENCE\\_TRIM & N\\_count & N\\_frac & barcode & sample & cell.id & chain\\\\\n",
       "  & <chr> & <chr> & <lgl> & <lgl> & <lgl> & <lgl> & <lgl> & <chr> & <chr> & <chr> & ⋯ & <dbl> & <chr> & <chr> & <chr> & <int> & <dbl> & <chr> & <chr> & <chr> & <chr>\\\\\n",
       "\\hline\n",
       "\t1 & CACAACATCCCACAGGCCCTTAATCGAG & NNNNNNNNNNNNNNNNNNNNNNNNNCGCTGTCTCTGGTTACTCCATCAGCAGTGGTTACTACTGGGGCTGGATCCGGCAGCCCCCAGGGAAGGGGCTGGAGTGGATTGGGAGTATCTATCATAGTGGGAGCACCTACTACAACCCGTCCCTCAAGAGTCGAGTCACCATATCAGTAGACACGTCCAAGAACCAGTTCTCCCTGAAGCTGAGCTCTGTGACCGCCGCAGACACGGCCGTGTATTACTGTGCGTCAACATGTAACGGGGAGCTATCCGAAAGTTGTTTCGACCCCTGGGGCCAGGGAACCCTGGTCACCGTCTCCTCAGNNNNNNNNNN & TRUE & TRUE & FALSE & NA & FALSE & IGH & IGHV4-38-2*01 & IGHD3-10*01,IGHD3-10*02,IGHD3-16*02 & ⋯ & 1.1102e-16 & H1H & H1H\\_CACAACATCCCACAGGCCCTTAATCGAG & CGCTGTCTCTGGTTACTCCATCAGCAGTGGTTACTACTGGGGCTGGATCCGGCAGCCCCCAGGGAAGGGGCTGGAGTGGATTGGGAGTATCTATCATAGTGGGAGCACCTACTACAACCCGTCCCTCAAGAGTCGAGTCACCATATCAGTAGACACGTCCAAGAACCAGTTCTCCCTGAAGCTGAGCTCTGTGACCGCCGCAGACACGGCCGTGTATTACTGTGCGTCAACATGTAACGGGGAGCTATCCGAAAGTTGTTTCGACCCCTGGGGCCAGGGAACCCTGGTCACCGTCTCCTCAG & 0 & 0 & CACAACATCCCACAGG & H1 & H1\\_CACAACATCCCACAGG & heavy\\\\\n",
       "\t2 & GGGTTATGTTCTCGCTGATGTAGCGACA & NNNNNNNNNNNNNNNNNNNNNNNNNGCTTCTGGATACACCTTCACCGGCTACTATATGCACTGGGTGCGACAGGCCCCTGGACAAGGGCTTGAGTGGATGGGATGGATCAACCCTAACAGTGGTGGCACAAACTATGCACAGAAGTTTCAGGGCAGGGTCACCATGACCAGGGACACGTCCATCAGCACAGCCTACATGGAGCTGAGCAGGCTGAGATCTGACGACACGGCCGTGTATTACTGTGCGAGAGTTACCACTATATTACGATTTTTGGAGTGGTCCTTGGGGTACTGGGGCCAGGGAACGCTGGTCACCGTCTCCTCAGNNNNNNNNNN  & TRUE & TRUE & FALSE & NA & FALSE & IGH & IGHV1-2*02    & IGHD3-3*01                          & ⋯ & 1.1102e-16 & H1H & H1H\\_GGGTTATGTTCTCGCTGATGTAGCGACA & GCTTCTGGATACACCTTCACCGGCTACTATATGCACTGGGTGCGACAGGCCCCTGGACAAGGGCTTGAGTGGATGGGATGGATCAACCCTAACAGTGGTGGCACAAACTATGCACAGAAGTTTCAGGGCAGGGTCACCATGACCAGGGACACGTCCATCAGCACAGCCTACATGGAGCTGAGCAGGCTGAGATCTGACGACACGGCCGTGTATTACTGTGCGAGAGTTACCACTATATTACGATTTTTGGAGTGGTCCTTGGGGTACTGGGGCCAGGGAACGCTGGTCACCGTCTCCTCAG  & 0 & 0 & GGGTTATGTTCTCGCT & H1 & H1\\_GGGTTATGTTCTCGCT & heavy\\\\\n",
       "\\end{tabular}\n"
      ],
      "text/markdown": [
       "\n",
       "A data.frame: 2 × 72\n",
       "\n",
       "| <!--/--> | SEQUENCE_ID &lt;chr&gt; | SEQUENCE_INPUT &lt;chr&gt; | FUNCTIONAL &lt;lgl&gt; | IN_FRAME &lt;lgl&gt; | STOP &lt;lgl&gt; | MUTATED_INVARIANT &lt;lgl&gt; | INDELS &lt;lgl&gt; | LOCUS &lt;chr&gt; | V_CALL &lt;chr&gt; | D_CALL &lt;chr&gt; | ⋯ ⋯ | PVAL &lt;dbl&gt; | SAMPLE &lt;chr&gt; | ID &lt;chr&gt; | SEQUENCE_TRIM &lt;chr&gt; | N_count &lt;int&gt; | N_frac &lt;dbl&gt; | barcode &lt;chr&gt; | sample &lt;chr&gt; | cell.id &lt;chr&gt; | chain &lt;chr&gt; |\n",
       "|---|---|---|---|---|---|---|---|---|---|---|---|---|---|---|---|---|---|---|---|---|---|\n",
       "| 1 | CACAACATCCCACAGGCCCTTAATCGAG | NNNNNNNNNNNNNNNNNNNNNNNNNCGCTGTCTCTGGTTACTCCATCAGCAGTGGTTACTACTGGGGCTGGATCCGGCAGCCCCCAGGGAAGGGGCTGGAGTGGATTGGGAGTATCTATCATAGTGGGAGCACCTACTACAACCCGTCCCTCAAGAGTCGAGTCACCATATCAGTAGACACGTCCAAGAACCAGTTCTCCCTGAAGCTGAGCTCTGTGACCGCCGCAGACACGGCCGTGTATTACTGTGCGTCAACATGTAACGGGGAGCTATCCGAAAGTTGTTTCGACCCCTGGGGCCAGGGAACCCTGGTCACCGTCTCCTCAGNNNNNNNNNN | TRUE | TRUE | FALSE | NA | FALSE | IGH | IGHV4-38-2*01 | IGHD3-10*01,IGHD3-10*02,IGHD3-16*02 | ⋯ | 1.1102e-16 | H1H | H1H_CACAACATCCCACAGGCCCTTAATCGAG | CGCTGTCTCTGGTTACTCCATCAGCAGTGGTTACTACTGGGGCTGGATCCGGCAGCCCCCAGGGAAGGGGCTGGAGTGGATTGGGAGTATCTATCATAGTGGGAGCACCTACTACAACCCGTCCCTCAAGAGTCGAGTCACCATATCAGTAGACACGTCCAAGAACCAGTTCTCCCTGAAGCTGAGCTCTGTGACCGCCGCAGACACGGCCGTGTATTACTGTGCGTCAACATGTAACGGGGAGCTATCCGAAAGTTGTTTCGACCCCTGGGGCCAGGGAACCCTGGTCACCGTCTCCTCAG | 0 | 0 | CACAACATCCCACAGG | H1 | H1_CACAACATCCCACAGG | heavy |\n",
       "| 2 | GGGTTATGTTCTCGCTGATGTAGCGACA | NNNNNNNNNNNNNNNNNNNNNNNNNGCTTCTGGATACACCTTCACCGGCTACTATATGCACTGGGTGCGACAGGCCCCTGGACAAGGGCTTGAGTGGATGGGATGGATCAACCCTAACAGTGGTGGCACAAACTATGCACAGAAGTTTCAGGGCAGGGTCACCATGACCAGGGACACGTCCATCAGCACAGCCTACATGGAGCTGAGCAGGCTGAGATCTGACGACACGGCCGTGTATTACTGTGCGAGAGTTACCACTATATTACGATTTTTGGAGTGGTCCTTGGGGTACTGGGGCCAGGGAACGCTGGTCACCGTCTCCTCAGNNNNNNNNNN  | TRUE | TRUE | FALSE | NA | FALSE | IGH | IGHV1-2*02    | IGHD3-3*01                          | ⋯ | 1.1102e-16 | H1H | H1H_GGGTTATGTTCTCGCTGATGTAGCGACA | GCTTCTGGATACACCTTCACCGGCTACTATATGCACTGGGTGCGACAGGCCCCTGGACAAGGGCTTGAGTGGATGGGATGGATCAACCCTAACAGTGGTGGCACAAACTATGCACAGAAGTTTCAGGGCAGGGTCACCATGACCAGGGACACGTCCATCAGCACAGCCTACATGGAGCTGAGCAGGCTGAGATCTGACGACACGGCCGTGTATTACTGTGCGAGAGTTACCACTATATTACGATTTTTGGAGTGGTCCTTGGGGTACTGGGGCCAGGGAACGCTGGTCACCGTCTCCTCAG  | 0 | 0 | GGGTTATGTTCTCGCT | H1 | H1_GGGTTATGTTCTCGCT | heavy |\n",
       "\n"
      ],
      "text/plain": [
       "  SEQUENCE_ID                 \n",
       "1 CACAACATCCCACAGGCCCTTAATCGAG\n",
       "2 GGGTTATGTTCTCGCTGATGTAGCGACA\n",
       "  SEQUENCE_INPUT                                                                                                                                                                                                                                                                                                                                   \n",
       "1 NNNNNNNNNNNNNNNNNNNNNNNNNCGCTGTCTCTGGTTACTCCATCAGCAGTGGTTACTACTGGGGCTGGATCCGGCAGCCCCCAGGGAAGGGGCTGGAGTGGATTGGGAGTATCTATCATAGTGGGAGCACCTACTACAACCCGTCCCTCAAGAGTCGAGTCACCATATCAGTAGACACGTCCAAGAACCAGTTCTCCCTGAAGCTGAGCTCTGTGACCGCCGCAGACACGGCCGTGTATTACTGTGCGTCAACATGTAACGGGGAGCTATCCGAAAGTTGTTTCGACCCCTGGGGCCAGGGAACCCTGGTCACCGTCTCCTCAGNNNNNNNNNN\n",
       "2 NNNNNNNNNNNNNNNNNNNNNNNNNGCTTCTGGATACACCTTCACCGGCTACTATATGCACTGGGTGCGACAGGCCCCTGGACAAGGGCTTGAGTGGATGGGATGGATCAACCCTAACAGTGGTGGCACAAACTATGCACAGAAGTTTCAGGGCAGGGTCACCATGACCAGGGACACGTCCATCAGCACAGCCTACATGGAGCTGAGCAGGCTGAGATCTGACGACACGGCCGTGTATTACTGTGCGAGAGTTACCACTATATTACGATTTTTGGAGTGGTCCTTGGGGTACTGGGGCCAGGGAACGCTGGTCACCGTCTCCTCAGNNNNNNNNNN \n",
       "  FUNCTIONAL IN_FRAME STOP  MUTATED_INVARIANT INDELS LOCUS V_CALL       \n",
       "1 TRUE       TRUE     FALSE NA                FALSE  IGH   IGHV4-38-2*01\n",
       "2 TRUE       TRUE     FALSE NA                FALSE  IGH   IGHV1-2*02   \n",
       "  D_CALL                              ⋯ PVAL       SAMPLE\n",
       "1 IGHD3-10*01,IGHD3-10*02,IGHD3-16*02 ⋯ 1.1102e-16 H1H   \n",
       "2 IGHD3-3*01                          ⋯ 1.1102e-16 H1H   \n",
       "  ID                              \n",
       "1 H1H_CACAACATCCCACAGGCCCTTAATCGAG\n",
       "2 H1H_GGGTTATGTTCTCGCTGATGTAGCGACA\n",
       "  SEQUENCE_TRIM                                                                                                                                                                                                                                                                                                 \n",
       "1 CGCTGTCTCTGGTTACTCCATCAGCAGTGGTTACTACTGGGGCTGGATCCGGCAGCCCCCAGGGAAGGGGCTGGAGTGGATTGGGAGTATCTATCATAGTGGGAGCACCTACTACAACCCGTCCCTCAAGAGTCGAGTCACCATATCAGTAGACACGTCCAAGAACCAGTTCTCCCTGAAGCTGAGCTCTGTGACCGCCGCAGACACGGCCGTGTATTACTGTGCGTCAACATGTAACGGGGAGCTATCCGAAAGTTGTTTCGACCCCTGGGGCCAGGGAACCCTGGTCACCGTCTCCTCAG\n",
       "2 GCTTCTGGATACACCTTCACCGGCTACTATATGCACTGGGTGCGACAGGCCCCTGGACAAGGGCTTGAGTGGATGGGATGGATCAACCCTAACAGTGGTGGCACAAACTATGCACAGAAGTTTCAGGGCAGGGTCACCATGACCAGGGACACGTCCATCAGCACAGCCTACATGGAGCTGAGCAGGCTGAGATCTGACGACACGGCCGTGTATTACTGTGCGAGAGTTACCACTATATTACGATTTTTGGAGTGGTCCTTGGGGTACTGGGGCCAGGGAACGCTGGTCACCGTCTCCTCAG \n",
       "  N_count N_frac barcode          sample cell.id             chain\n",
       "1 0       0      CACAACATCCCACAGG H1     H1_CACAACATCCCACAGG heavy\n",
       "2 0       0      GGGTTATGTTCTCGCT H1     H1_GGGTTATGTTCTCGCT heavy"
      ]
     },
     "metadata": {},
     "output_type": "display_data"
    }
   ],
   "source": [
    "bcr = read.csv('vdj_contigs/01_filtered_vdj_contig.csv')\n",
    "summary(bcr$R1CONSCOUNT)\n",
    "summary(bcr$N_count)\n",
    "head(bcr,2)"
   ]
  },
  {
   "cell_type": "code",
   "execution_count": 5,
   "id": "6df31bc9-c880-41ad-abb9-58541d346212",
   "metadata": {},
   "outputs": [],
   "source": [
    "# split the bcr df into heavy and light \n",
    "heavy.bcr = bcr %>% filter(chain == 'heavy')\n",
    "light.bcr = bcr %>% filter(chain == 'light')"
   ]
  },
  {
   "cell_type": "code",
   "execution_count": 6,
   "id": "1e458b27-a97c-444b-acaf-6d20be1a48f8",
   "metadata": {},
   "outputs": [],
   "source": [
    "# calculate shm frequency \n",
    "heavy.bcr.shm = heavy.bcr %>% filter(cell.id %in% srat$cell.id) %>% \n",
    "observedMutations(sequenceColumn = 'SEQUENCE_IMGT',germlineColumn = 'GERMLINE_IMGT', \n",
    "                       frequency = TRUE,combine=TRUE)\n",
    "light.bcr.shm = light.bcr %>% filter(cell.id %in% srat$cell.id) %>% \n",
    "observedMutations(sequenceColumn = 'SEQUENCE_IMGT',germlineColumn = 'GERMLINE_IMGT', \n",
    "                       frequency = TRUE,combine=TRUE)"
   ]
  },
  {
   "cell_type": "code",
   "execution_count": 7,
   "id": "d45b928a-9d08-4783-91df-0a52bb9610d9",
   "metadata": {},
   "outputs": [],
   "source": [
    "# match shm info to metadata \n",
    "srat$heavy.shm.freq = heavy.bcr.shm$mu_freq[match(srat$cell.id,heavy.bcr.shm$cell.id)]\n",
    "srat$light.shm.freq = light.bcr.shm$mu_freq[match(srat$cell.id,light.bcr.shm$cell.id)]"
   ]
  },
  {
   "cell_type": "code",
   "execution_count": 8,
   "id": "bdd2cbfb-6181-48ee-91ae-2062532f1f2d",
   "metadata": {},
   "outputs": [],
   "source": [
    "# match bcr recovery information \n",
    "srat$heavy.recovery = ifelse(srat$cell.id %in% heavy.bcr$cell.id,1,0)\n",
    "srat$light.recovery = ifelse(srat$cell.id %in% light.bcr$cell.id,1,0)\n",
    "srat$Recovery = srat$heavy.recovery + srat$light.recovery * 2"
   ]
  },
  {
   "cell_type": "code",
   "execution_count": 9,
   "id": "2f424083-ddb4-4a9a-849d-53b0c63d14d0",
   "metadata": {},
   "outputs": [],
   "source": [
    "# count umi info \n",
    "heavy.bcr.umi = heavy.bcr %>% count(cell.id,name = 'umi') \n",
    "light.bcr.umi = light.bcr %>% count(cell.id,name= 'umi')"
   ]
  },
  {
   "cell_type": "code",
   "execution_count": 10,
   "id": "fd23a7ea-998d-4e1b-855a-7a734e33e196",
   "metadata": {},
   "outputs": [],
   "source": [
    "# match umi info to metadata \n",
    "srat$heavy.umi = heavy.bcr.umi$umi[match(srat$cell.id,heavy.bcr.umi$cell.id)]\n",
    "srat$light.umi = light.bcr.umi$umi[match(srat$cell.id,light.bcr.umi$cell.id)]"
   ]
  },
  {
   "cell_type": "code",
   "execution_count": 11,
   "id": "c5c0d2d1-c531-44a8-a9e1-ecf4d8fd913c",
   "metadata": {},
   "outputs": [
    {
     "data": {
      "image/png": "[encoded data removed]",
      "text/plain": [
       "plot without title"
      ]
     },
     "metadata": {
      "image/png": {
       "height": 400,
       "width": 300
      }
     },
     "output_type": "display_data"
    }
   ],
   "source": [
    "options(repr.plot.width=3,repr.plot.height=4,repr.plot.res=200)\n",
    "metadata = srat@meta.data \n",
    "metadata %>% \n",
    "ggplot(aes(x=bcelltype,fill=factor(Recovery))) + theme_classic()+\n",
    "geom_bar(position='fill') + \n",
    "labs(x='',y='Fraction',fill='Recovery') + \n",
    "scale_y_continuous(expand = c(0,0)) + \n",
    "theme(axis.text.x = element_text(angle=45, hjust=1))"
   ]
  },
  {
   "cell_type": "code",
   "execution_count": null,
   "id": "178f2557-30b2-4aa5-ac45-b75551a16d54",
   "metadata": {},
   "outputs": [],
   "source": [
    "saveRDS(srat,'seurat_objects/04_10x_figure_ready_300.RDS')"
   ]
  },
  {
   "cell_type": "code",
   "execution_count": null,
   "id": "4ba99aab-25b7-4a12-947c-a5db11a5b2e2",
   "metadata": {},
   "outputs": [],
   "source": [
    "write.csv(srat@meta.data,'Zhang_10x3_metadata_recovery_labeled.csv')"
   ]
  },
  {
   "cell_type": "code",
   "execution_count": null,
   "id": "dab0eb2c-3664-4fd8-833b-cf77204195be",
   "metadata": {},
   "outputs": [],
   "source": []
  }
 ],
 "metadata": {
  "kernelspec": {
   "display_name": "R",
   "language": "R",
   "name": "ir"
  },
  "language_info": {
   "codemirror_mode": "r",
   "file_extension": ".r",
   "mimetype": "text/x-r-source",
   "name": "R",
   "pygments_lexer": "r",
   "version": "4.3.2"
  }
 },
 "nbformat": 4,
 "nbformat_minor": 5
}
